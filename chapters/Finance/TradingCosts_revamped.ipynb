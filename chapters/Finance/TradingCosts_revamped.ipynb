{
 "cells": [
  {
   "cell_type": "markdown",
   "id": "446a0467",
   "metadata": {},
   "source": [
    "<!-- Visual style for callouts & badges (self-contained) -->\n",
    "<style>\n",
    ":root {\n",
    "  --accent:#5b21b6;         /* Stern-ish purple */\n",
    "  --exercise:#0ea5e9;\n",
    "  --concept:#22c55e;\n",
    "  --important:#ef4444;\n",
    "  --insight:#f59e0b;\n",
    "}\n",
    ".markdown-callout {\n",
    "  padding: 1rem 1.2rem;\n",
    "  border-left: 6px solid var(--accent);\n",
    "  background: #f9fafb;\n",
    "  border-radius: 0.6rem;\n",
    "  margin: 1rem 0;\n",
    "}\n",
    ".callout-title { \n",
    "  font-weight: 600; \n",
    "  text-transform: uppercase; \n",
    "  font-size: 0.85rem; \n",
    "  letter-spacing: 0.03em;\n",
    "  margin-bottom: 0.25rem;\n",
    "}\n",
    ".badge { \n",
    "  display:inline-block; \n",
    "  padding: 0.15rem 0.55rem; \n",
    "  border-radius: 999px; \n",
    "  font-size: 0.72rem; \n",
    "  background: var(--accent); \n",
    "  color: white; \n",
    "  margin-right: 0.4rem; \n",
    "}\n",
    ".callout.exercise { border-left-color: var(--exercise); background: #f0f9ff; }\n",
    ".callout.concept   { border-left-color: var(--concept);   background: #f0fff4; }\n",
    ".callout.important { border-left-color: var(--important); background: #fff7ed; }\n",
    ".callout.insight   { border-left-color: var(--insight);   background: #fffbeb; }\n",
    "\n",
    "/* Headings: slightly tighter and bolder for readability */\n",
    "h1, h2, h3 { scroll-margin-top: 80px; }\n",
    "h1 { border-bottom: 2px solid #eee; padding-bottom: 0.3rem; }\n",
    "</style>"
   ]
  },
  {
   "cell_type": "markdown",
   "id": "278ac686",
   "metadata": {},
   "source": [
    "# 🎯 Learning Objectives\n",
    "\n",
    "By the end of this notebook, you will be able to:\n",
    "\n",
    "- Define the main components of **trading costs** (spreads, commissions/fees, market impact, and slippage) and how they affect realized performance.\n",
    "- Compute **cost‑adjusted returns** from raw signals/weights using spreads/fees and **turnover**.\n",
    "- Measure **implementation shortfall** from price series and orders, and interpret its drivers.\n",
    "- Compare pre‑ and post‑cost performance for strategies and discuss when costs can **erase alpha**.\n",
    "- Implement simple, **vectorized Python** functions to apply costs across portfolios/backtests.\n",
    "- Diagnose common **backtesting pitfalls** related to frictions (e.g., no slippage, ignoring liquidity).\n",
    "\n",
    "> Tip: Look for **badges** that highlight Exercises, Concepts, Insights, and Important caveats as you progress."
   ]
  },
  {
   "cell_type": "markdown",
   "id": "fab07751",
   "metadata": {},
   "source": [
    "To Be Done"
   ]
  },
  {
   "cell_type": "code",
   "execution_count": 1,
   "metadata": {
    "colab_type": "text",
    "id": "lDoLr2YkjO0z"
   },
   "outputs": [
    {
     "name": "stderr",
     "output_type": "stream",
     "text": [
      "C:\\Users\\alan.moreira\\AppData\\Roaming\\Python\\Python39\\site-packages\\pandas\\core\\computation\\expressions.py:21: UserWarning: Pandas requires version '2.8.4' or newer of 'numexpr' (version '2.8.1' currently installed).\n",
      "  from pandas.core.computation.check import NUMEXPR_INSTALLED\n",
      "C:\\Users\\alan.moreira\\AppData\\Roaming\\Python\\Python39\\site-packages\\pandas\\core\\arrays\\masked.py:60: UserWarning: Pandas requires version '1.3.6' or newer of 'bottleneck' (version '1.3.4' currently installed).\n",
      "  from pandas.core import (\n"
     ]
    }
   ],
   "source": [
    "import numpy as np\n",
    "import pandas as pd\n",
    "%matplotlib inline\n",
    "import matplotlib.pyplot as plt\n",
    "import statsmodels.api as sm\n"
   ]
  },
  {
   "cell_type": "markdown",
   "id": "09477ca5",
   "metadata": {},
   "source": [
    "# Trading costs and Liquidity\n",
    "\n",
    "\n",
    "So we have taken prices as given and discussed quantitative allocation rules that overperform relative to a standard CAPM benchmark.\n",
    "\n",
    "An important question is whether we would be able to trade at those prices if we tried to implement the strategy.\n",
    "\n"
   ]
  },
  {
   "cell_type": "markdown",
   "id": "4e9cff0f",
   "metadata": {},
   "source": [
    "\n",
    "Liquidity is the ease of trading a security.\n",
    "\n",
    "This encompass many factors, all of which impose a cost on those wishing to trade.\n",
    "\n",
    "Sources of illiquidity:\n",
    "\n",
    "1. Exogenous transactions costs = brokerage fees, order-processing costs, transaction taxes.\n",
    "\n",
    "2. Demand pressure = when need to sell quickly, nautral buyer not available. Whoever is available will ask to be compensated to absorb the trade\n",
    "\n",
    "3. Inventory risk = if can’t find a buyer will sell to a market maker who will later sell position.  But, since market maker faces future price changes, he might demand compensation for this risk\n",
    "\n",
    "4. Private information = concern over trading against an informed party (e.g., insider).  Need to be compensated for this risk. Private information can be about fundamentals or about future flows.\n",
    "\n",
    "Obviuosly a perfect answer to this question requires costly experimentation. It would require trading and measuring how prices change in reponse to your trading behavior.\n",
    "\n"
   ]
  },
  {
   "cell_type": "markdown",
   "id": "7d3e2ade",
   "metadata": {},
   "source": [
    "## Implementation Shortfall\n",
    "\n",
    "\n",
    "- Wish portfolio: your portfolio is trading costs were zero\n",
    "\n",
    "- Performance of wish portfolio: compute returns in real time assuming you can trade at the mid\n",
    "\n",
    "**Shortfall=return of wish portfolio- return of real portfolio**\n",
    "\n",
    "(after all costs)\n",
    "\n",
    "Shortfall includes both execution costs ( the costs of trading to  get you to the wish portfolio)  and opportunity costs ( the costs of deviating from the wish portfolio )\n",
    "\n",
    "IF you trade quickly what force will increase the Shotfall ?Which will increase?\n",
    "\n",
    "How should you trade in this world?\n",
    "\n",
    "Precise answer is highly empirical\n",
    "\n",
    "But overall shape of the solution is clear\n",
    "\n",
    "- Find size of tracking error that minimize shortfall\n",
    "- IF your weights imply a tracking below the cap, don;t trade\n",
    "- Trade whenever tracking error going above this value\n",
    "- Trade just enough to keep tracking error at the cap\n",
    "\n",
    "\n",
    "Key for this trade-off is the cost of trading.\n",
    "\n",
    "Trading cost highly dependent of who is trading\n",
    "- Why?\n",
    "\n"
   ]
  },
  {
   "cell_type": "markdown",
   "id": "321ef164",
   "metadata": {},
   "source": [
    "## Absorption capacity\n",
    "\n",
    "\n",
    "The idea is to measure how much of the trading volume of each stock you would \"use\" to implement the strategy for a given position size\n",
    "\n",
    "Specifically:\n",
    "\n",
    "$$UsedVolume_{i,t}=\\frac{Trading_{i,t}}{Volume_{i,t}}$$\n",
    "\n",
    "The idea is that if you trade a small share of the volume, you are likely to be able to trade at the posted prices.\n",
    "\n",
    "This graph below shows costs for Trades made by AQR\n",
    "\n",
    "![Market Impact](../../assets/plots/marketimpact.jpg)\n",
    "\n",
    "\n"
   ]
  },
  {
   "cell_type": "markdown",
   "id": "85b0f726",
   "metadata": {},
   "source": [
    "## How much do you actually need to trade?\n",
    "\n",
    "To compute how much you need to trade you need to compare the desired weights in date $t$ with the weights you have in the end of date $t+1$.\n",
    "\n",
    "* Before trading, your weight in date $t+1$ is\n",
    "\n",
    "\n",
    "$$w_{i,t+1}(\\text{before trading})= \\frac{w_{i,t}^*(1+r_{i,t+1})}{(1+r_{t+1}^{strategy})}$$\n",
    "\n",
    "\n",
    "* If the desired position in the stock is $w_{i,t+1}^*$, then\n",
    "$$\n",
    "\\begin{align}\n",
    "UsedVolume_{i,t}&=\\frac{position \\times \\bigg(w_{i,t+1}^*-w_{i,t+1}(\\text{before trading})\\bigg)}{Volume_{i,t}} \\\\\n",
    "&=\\frac{position}{Volume_{i,t}}\\left(w_{i,t+1}^*-\\frac{w_{i,t}^*(1+r_{i,t+1})}{1+r_{t+1}^{strategy}}\\right)\n",
    "\\end{align}$$\n",
    "\n",
    "* $UsedVolume_{i,t}$ is a stock-time specific statistic. Implementability will depend on how high this quantity is across time and across stocks-- the lower the better. \n",
    "\n",
    "* If it is very high (i.e., close to  1), it means that your position would require almost all volume in a particular stock. It doesn't mean that you wouldn't be able to trade, but likely prices would move against you (i.e., go up as you buy, do down as you sell)\n",
    "\n",
    "* One very conservative way of looking at it is to look at the **maximum** of this statistic across stocks. This tells you the \"weakest\" link in your portfolio formation. \n",
    "\n",
    "* The max statistic is the right one to look at if you are unwilling to deviate from your \"wish portfolio\".\n",
    "\n",
    "* But the \"wish portfolio\" does not take into account transaction costs\n",
    "\n",
    "> How can portfolios take into account trading costs to reduce total costs substantially?\n",
    "\n",
    "> Can we change the portfolios to reduce trading costs without altering them significantly?\n",
    "\n",
    "One simple way of looking at this is to look at the  95/75/50 percentiles of the used volume distribution.\n",
    "\n",
    "* If it declines steeply it might make sense to avoid the 5% to 25% of the stocks that are least liquid in you portfolio\n",
    "\n",
    "* But as you deviate from the original portfolio you will have tracking error relative to the original strategy.\n",
    "\n",
    "\n"
   ]
  },
  {
   "cell_type": "code",
   "execution_count": 2,
   "metadata": {
    "colab": {},
    "colab_type": "code",
    "id": "6-AqJnek3i3H"
   },
   "outputs": [
    {
     "data": {
      "text/html": [
       "<div>\n",
       "<style scoped>\n",
       "    .dataframe tbody tr th:only-of-type {\n",
       "        vertical-align: middle;\n",
       "    }\n",
       "\n",
       "    .dataframe tbody tr th {\n",
       "        vertical-align: top;\n",
       "    }\n",
       "\n",
       "    .dataframe thead th {\n",
       "        text-align: right;\n",
       "    }\n",
       "</style>\n",
       "<table border=\"1\" class=\"dataframe\">\n",
       "  <thead>\n",
       "    <tr style=\"text-align: right;\">\n",
       "      <th></th>\n",
       "      <th>date</th>\n",
       "      <th>permno</th>\n",
       "      <th>ret</th>\n",
       "      <th>me</th>\n",
       "      <th>vol</th>\n",
       "      <th>prc</th>\n",
       "    </tr>\n",
       "  </thead>\n",
       "  <tbody>\n",
       "    <tr>\n",
       "      <th>0</th>\n",
       "      <td>2005-01-31</td>\n",
       "      <td>10001</td>\n",
       "      <td>-0.040580</td>\n",
       "      <td>1.717890e+04</td>\n",
       "      <td>515.0</td>\n",
       "      <td>6.620000</td>\n",
       "    </tr>\n",
       "    <tr>\n",
       "      <th>1</th>\n",
       "      <td>2005-02-28</td>\n",
       "      <td>10001</td>\n",
       "      <td>-0.045166</td>\n",
       "      <td>1.642828e+04</td>\n",
       "      <td>726.0</td>\n",
       "      <td>6.321000</td>\n",
       "    </tr>\n",
       "    <tr>\n",
       "      <th>2</th>\n",
       "      <td>2005-03-31</td>\n",
       "      <td>10001</td>\n",
       "      <td>0.124822</td>\n",
       "      <td>1.866375e+04</td>\n",
       "      <td>4107.0</td>\n",
       "      <td>7.110000</td>\n",
       "    </tr>\n",
       "    <tr>\n",
       "      <th>3</th>\n",
       "      <td>2005-04-30</td>\n",
       "      <td>10001</td>\n",
       "      <td>-0.074684</td>\n",
       "      <td>1.726987e+04</td>\n",
       "      <td>527.0</td>\n",
       "      <td>6.579000</td>\n",
       "    </tr>\n",
       "    <tr>\n",
       "      <th>4</th>\n",
       "      <td>2005-05-31</td>\n",
       "      <td>10001</td>\n",
       "      <td>0.219030</td>\n",
       "      <td>2.105250e+04</td>\n",
       "      <td>1990.0</td>\n",
       "      <td>8.020000</td>\n",
       "    </tr>\n",
       "    <tr>\n",
       "      <th>...</th>\n",
       "      <td>...</td>\n",
       "      <td>...</td>\n",
       "      <td>...</td>\n",
       "      <td>...</td>\n",
       "      <td>...</td>\n",
       "      <td>...</td>\n",
       "    </tr>\n",
       "    <tr>\n",
       "      <th>763616</th>\n",
       "      <td>2020-08-31</td>\n",
       "      <td>93436</td>\n",
       "      <td>0.741452</td>\n",
       "      <td>4.643391e+08</td>\n",
       "      <td>4051970.0</td>\n",
       "      <td>498.320007</td>\n",
       "    </tr>\n",
       "    <tr>\n",
       "      <th>763617</th>\n",
       "      <td>2020-09-30</td>\n",
       "      <td>93436</td>\n",
       "      <td>-0.139087</td>\n",
       "      <td>4.067015e+08</td>\n",
       "      <td>17331954.0</td>\n",
       "      <td>429.010010</td>\n",
       "    </tr>\n",
       "    <tr>\n",
       "      <th>763618</th>\n",
       "      <td>2020-10-31</td>\n",
       "      <td>93436</td>\n",
       "      <td>-0.095499</td>\n",
       "      <td>3.678235e+08</td>\n",
       "      <td>8330610.0</td>\n",
       "      <td>388.040009</td>\n",
       "    </tr>\n",
       "    <tr>\n",
       "      <th>763619</th>\n",
       "      <td>2020-11-30</td>\n",
       "      <td>93436</td>\n",
       "      <td>0.462736</td>\n",
       "      <td>5.380286e+08</td>\n",
       "      <td>7811501.0</td>\n",
       "      <td>567.599976</td>\n",
       "    </tr>\n",
       "    <tr>\n",
       "      <th>763620</th>\n",
       "      <td>2020-12-31</td>\n",
       "      <td>93436</td>\n",
       "      <td>0.243252</td>\n",
       "      <td>6.689053e+08</td>\n",
       "      <td>11962716.0</td>\n",
       "      <td>705.669983</td>\n",
       "    </tr>\n",
       "  </tbody>\n",
       "</table>\n",
       "<p>763621 rows × 6 columns</p>\n",
       "</div>"
      ],
      "text/plain": [
       "             date  permno       ret            me         vol         prc\n",
       "0      2005-01-31   10001 -0.040580  1.717890e+04       515.0    6.620000\n",
       "1      2005-02-28   10001 -0.045166  1.642828e+04       726.0    6.321000\n",
       "2      2005-03-31   10001  0.124822  1.866375e+04      4107.0    7.110000\n",
       "3      2005-04-30   10001 -0.074684  1.726987e+04       527.0    6.579000\n",
       "4      2005-05-31   10001  0.219030  2.105250e+04      1990.0    8.020000\n",
       "...           ...     ...       ...           ...         ...         ...\n",
       "763616 2020-08-31   93436  0.741452  4.643391e+08   4051970.0  498.320007\n",
       "763617 2020-09-30   93436 -0.139087  4.067015e+08  17331954.0  429.010010\n",
       "763618 2020-10-31   93436 -0.095499  3.678235e+08   8330610.0  388.040009\n",
       "763619 2020-11-30   93436  0.462736  5.380286e+08   7811501.0  567.599976\n",
       "763620 2020-12-31   93436  0.243252  6.689053e+08  11962716.0  705.669983\n",
       "\n",
       "[763621 rows x 6 columns]"
      ]
     },
     "execution_count": 2,
     "metadata": {},
     "output_type": "execute_result"
    }
   ],
   "source": [
    "crsp=pd.read_pickle('https://github.com/amoreira2/Fin418/blob/main/assets/data/crspm2005_2020.pkl?raw=true')\n",
    "from pandas.tseries.offsets import *\n",
    "\n",
    "# change variable format to int\n",
    "crsp[['permno']]=crsp[['permno']].astype(int)\n",
    "# Line up date to be end of month \n",
    "crsp['date']=crsp['date']+MonthEnd(0)\n",
    "\n",
    "# calculate market equity\n",
    "# why do we use absolute value of price?\n",
    "crsp['me']=crsp['prc'].abs()*crsp['shrout'] \n",
    "# drop price and shareoustandng since we won't need it anymore\n",
    "\n",
    "crsp=crsp[['permno','date','ret', 'me','vol','prc']].sort_values(['permno','date']).set_index('date').drop_duplicates().reset_index()\n",
    "crsp"
   ]
  },
  {
   "cell_type": "code",
   "execution_count": 3,
   "metadata": {
    "colab": {},
    "colab_type": "code",
    "id": "mVVvbCvijh90"
   },
   "outputs": [],
   "source": [
    "# data=crsp_m.copy()\n",
    "# ngroups=10\n",
    "\n",
    "def momreturns_w(data, ngroups):\n",
    "    \n",
    "    # step1. create a temporary crsp dataset\n",
    "    _tmp_crsp = data[['permno','date','ret', 'me','vol','prc']].sort_values(['permno','date']).set_index('date').drop_duplicates()\n",
    "    _tmp_crsp['volume']=_tmp_crsp['vol']*_tmp_crsp['prc'].abs()*100/1e6 # in million dollars like me\n",
    "\n",
    "    # step 2: construct the signal\n",
    "    _tmp_crsp['grossret']=_tmp_crsp['ret']+1\n",
    "    _tmp_cumret=_tmp_crsp.groupby('permno')['grossret'].rolling(window=12).apply(np.prod, raw=True)-1\n",
    "    _tmp_cumret=_tmp_cumret.reset_index().rename(columns={'grossret':'cumret'})\n",
    "\n",
    "    _tmp = pd.merge(_tmp_crsp.reset_index(), _tmp_cumret[['permno','date','cumret']], how='left', on=['permno','date'])\n",
    "    # merge the 12 month return signal back to the original database\n",
    "    _tmp['mom']=_tmp.groupby('permno')['cumret'].shift(2)\n",
    "\n",
    "    # step 3: rank assets by signal\n",
    "    mom=_tmp.sort_values(['date','permno']) # sort by date and firm identifier \n",
    "    mom=mom.dropna(subset=['mom'], how='any')# drop the row if any of these variables 'mom','ret','me' are missing\n",
    "    mom['mom_group']=mom.groupby(['date'])['mom'].transform(lambda x: pd.qcut(x, ngroups, labels=False,duplicates='drop'))\n",
    "    # create `ngroups` groups each month. Assign membership accroding to the stock ranking in the distribution of trading signal \n",
    "    # in a given month \n",
    "    # transform in string the group names\n",
    "    mom=mom.dropna(subset=['mom_group'], how='any')# drop the row if any of 'mom_group' is missing\n",
    "    mom['mom_group']=mom['mom_group'].astype(int).astype(str).apply(lambda x: 'm{}'.format(x))\n",
    "\n",
    "    mom['date']=mom['date']+MonthEnd(0) #shift all the date to end of the month\n",
    "    mom=mom.sort_values(['permno','date']) # resort \n",
    "\n",
    "    # step 4: form portfolio weights\n",
    "    def wavg_wght(group, ret_name, weight_name):\n",
    "        d = group[ret_name]\n",
    "        w = group[weight_name]\n",
    "        try:\n",
    "            group['Wght']=(w) / w.sum()\n",
    "            return group[['permno','Wght']]\n",
    "        except ZeroDivisionError:\n",
    "            return np.nan\n",
    "    # We now simply have to  use the above function to construct the portfolio\n",
    "\n",
    "    # the code below applies the function in each date,mom_group group,\n",
    "    # so it applies the function to each of these subgroups of the data set, \n",
    "    # so it retursn one time-series for each mom_group, as it average the returns of\n",
    "    # all the firms in a given group in a given date\n",
    "\n",
    "    weights = mom.groupby(['date','mom_group']).apply(wavg_wght, 'ret','me') \n",
    "\n",
    "    # merge back\n",
    "    weights=mom.merge(weights,on=['date','permno'])\n",
    "    weights=weights.sort_values(['date','permno'])\n",
    "\n",
    "    weights['mom_group_lead']=weights.groupby('permno').mom_group.shift(-1)\n",
    "    weights['Wght_lead']=weights.groupby('permno').Wght.shift(-1)\n",
    "    weights=weights.sort_values(['permno','date'])\n",
    "\n",
    "    def wavg_ret(group, ret_name, weight_name):\n",
    "        d = group[ret_name]\n",
    "        w = group[weight_name]\n",
    "        try:\n",
    "            return (d * w).sum() / w.sum()\n",
    "        except ZeroDivisionError:\n",
    "            return np.nan\n",
    "\n",
    "    port_vwret = weights.groupby(['date','mom_group']).apply(wavg_ret, 'ret','Wght')\n",
    "    port_vwret = port_vwret.reset_index().rename(columns={0:'port_vwret'})# give a name to the new time-seires\n",
    "\n",
    "\n",
    "    weights=weights.merge(port_vwret,how='left',on=['date','mom_group'])\n",
    "\n",
    "    port_vwret=port_vwret.set_index(['date','mom_group']) # set indexes\n",
    "    port_vwret=port_vwret.unstack(level=-1) # unstack so we have in each column the different portfolios, and in each \n",
    "    port_vwret=port_vwret.port_vwret\n",
    "\n",
    "    return port_vwret, weights"
   ]
  },
  {
   "cell_type": "code",
   "execution_count": 4,
   "metadata": {
    "colab": {},
    "colab_type": "code",
    "id": "WnZtoUY51AN1"
   },
   "outputs": [
    {
     "name": "stderr",
     "output_type": "stream",
     "text": [
      "C:\\Users\\alan.moreira\\AppData\\Local\\Temp\\ipykernel_1440\\3351365901.py:48: DeprecationWarning: DataFrameGroupBy.apply operated on the grouping columns. This behavior is deprecated, and in a future version of pandas the grouping columns will be excluded from the operation. Either pass `include_groups=False` to exclude the groupings or explicitly select the grouping columns after groupby to silence this warning.\n",
      "  weights = mom.groupby(['date','mom_group']).apply(wavg_wght, 'ret','me')\n"
     ]
    },
    {
     "ename": "ValueError",
     "evalue": "'date' is both an index level and a column label, which is ambiguous.",
     "output_type": "error",
     "traceback": [
      "\u001b[1;31m---------------------------------------------------------------------------\u001b[0m",
      "\u001b[1;31mValueError\u001b[0m                                Traceback (most recent call last)",
      "Input \u001b[1;32mIn [4]\u001b[0m, in \u001b[0;36m<cell line: 1>\u001b[1;34m()\u001b[0m\n\u001b[1;32m----> 1\u001b[0m port_ret, wght\u001b[38;5;241m=\u001b[39m\u001b[43mmomreturns_w\u001b[49m\u001b[43m(\u001b[49m\u001b[43mcrsp\u001b[49m\u001b[43m,\u001b[49m\u001b[43m \u001b[49m\u001b[38;5;241;43m10\u001b[39;49m\u001b[43m)\u001b[49m\n",
      "Input \u001b[1;32mIn [3]\u001b[0m, in \u001b[0;36mmomreturns_w\u001b[1;34m(data, ngroups)\u001b[0m\n\u001b[0;32m     48\u001b[0m weights \u001b[38;5;241m=\u001b[39m mom\u001b[38;5;241m.\u001b[39mgroupby([\u001b[38;5;124m'\u001b[39m\u001b[38;5;124mdate\u001b[39m\u001b[38;5;124m'\u001b[39m,\u001b[38;5;124m'\u001b[39m\u001b[38;5;124mmom_group\u001b[39m\u001b[38;5;124m'\u001b[39m])\u001b[38;5;241m.\u001b[39mapply(wavg_wght, \u001b[38;5;124m'\u001b[39m\u001b[38;5;124mret\u001b[39m\u001b[38;5;124m'\u001b[39m,\u001b[38;5;124m'\u001b[39m\u001b[38;5;124mme\u001b[39m\u001b[38;5;124m'\u001b[39m) \n\u001b[0;32m     50\u001b[0m \u001b[38;5;66;03m# merge back\u001b[39;00m\n\u001b[1;32m---> 51\u001b[0m weights\u001b[38;5;241m=\u001b[39m\u001b[43mmom\u001b[49m\u001b[38;5;241;43m.\u001b[39;49m\u001b[43mmerge\u001b[49m\u001b[43m(\u001b[49m\u001b[43mweights\u001b[49m\u001b[43m,\u001b[49m\u001b[43mon\u001b[49m\u001b[38;5;241;43m=\u001b[39;49m\u001b[43m[\u001b[49m\u001b[38;5;124;43m'\u001b[39;49m\u001b[38;5;124;43mdate\u001b[39;49m\u001b[38;5;124;43m'\u001b[39;49m\u001b[43m,\u001b[49m\u001b[38;5;124;43m'\u001b[39;49m\u001b[38;5;124;43mpermno\u001b[39;49m\u001b[38;5;124;43m'\u001b[39;49m\u001b[43m]\u001b[49m\u001b[43m)\u001b[49m\n\u001b[0;32m     52\u001b[0m weights\u001b[38;5;241m=\u001b[39mweights\u001b[38;5;241m.\u001b[39msort_values([\u001b[38;5;124m'\u001b[39m\u001b[38;5;124mdate\u001b[39m\u001b[38;5;124m'\u001b[39m,\u001b[38;5;124m'\u001b[39m\u001b[38;5;124mpermno\u001b[39m\u001b[38;5;124m'\u001b[39m])\n\u001b[0;32m     54\u001b[0m weights[\u001b[38;5;124m'\u001b[39m\u001b[38;5;124mmom_group_lead\u001b[39m\u001b[38;5;124m'\u001b[39m]\u001b[38;5;241m=\u001b[39mweights\u001b[38;5;241m.\u001b[39mgroupby(\u001b[38;5;124m'\u001b[39m\u001b[38;5;124mpermno\u001b[39m\u001b[38;5;124m'\u001b[39m)\u001b[38;5;241m.\u001b[39mmom_group\u001b[38;5;241m.\u001b[39mshift(\u001b[38;5;241m-\u001b[39m\u001b[38;5;241m1\u001b[39m)\n",
      "File \u001b[1;32m~\\AppData\\Roaming\\Python\\Python39\\site-packages\\pandas\\core\\frame.py:10819\u001b[0m, in \u001b[0;36mDataFrame.merge\u001b[1;34m(self, right, how, on, left_on, right_on, left_index, right_index, sort, suffixes, copy, indicator, validate)\u001b[0m\n\u001b[0;32m  10800\u001b[0m \u001b[38;5;129m@Substitution\u001b[39m(\u001b[38;5;124m\"\u001b[39m\u001b[38;5;124m\"\u001b[39m)\n\u001b[0;32m  10801\u001b[0m \u001b[38;5;129m@Appender\u001b[39m(_merge_doc, indents\u001b[38;5;241m=\u001b[39m\u001b[38;5;241m2\u001b[39m)\n\u001b[0;32m  10802\u001b[0m \u001b[38;5;28;01mdef\u001b[39;00m \u001b[38;5;21mmerge\u001b[39m(\n\u001b[1;32m   (...)\u001b[0m\n\u001b[0;32m  10815\u001b[0m     validate: MergeValidate \u001b[38;5;241m|\u001b[39m \u001b[38;5;28;01mNone\u001b[39;00m \u001b[38;5;241m=\u001b[39m \u001b[38;5;28;01mNone\u001b[39;00m,\n\u001b[0;32m  10816\u001b[0m ) \u001b[38;5;241m-\u001b[39m\u001b[38;5;241m>\u001b[39m DataFrame:\n\u001b[0;32m  10817\u001b[0m     \u001b[38;5;28;01mfrom\u001b[39;00m \u001b[38;5;21;01mpandas\u001b[39;00m\u001b[38;5;21;01m.\u001b[39;00m\u001b[38;5;21;01mcore\u001b[39;00m\u001b[38;5;21;01m.\u001b[39;00m\u001b[38;5;21;01mreshape\u001b[39;00m\u001b[38;5;21;01m.\u001b[39;00m\u001b[38;5;21;01mmerge\u001b[39;00m \u001b[38;5;28;01mimport\u001b[39;00m merge\n\u001b[1;32m> 10819\u001b[0m     \u001b[38;5;28;01mreturn\u001b[39;00m \u001b[43mmerge\u001b[49m\u001b[43m(\u001b[49m\n\u001b[0;32m  10820\u001b[0m \u001b[43m        \u001b[49m\u001b[38;5;28;43mself\u001b[39;49m\u001b[43m,\u001b[49m\n\u001b[0;32m  10821\u001b[0m \u001b[43m        \u001b[49m\u001b[43mright\u001b[49m\u001b[43m,\u001b[49m\n\u001b[0;32m  10822\u001b[0m \u001b[43m        \u001b[49m\u001b[43mhow\u001b[49m\u001b[38;5;241;43m=\u001b[39;49m\u001b[43mhow\u001b[49m\u001b[43m,\u001b[49m\n\u001b[0;32m  10823\u001b[0m \u001b[43m        \u001b[49m\u001b[43mon\u001b[49m\u001b[38;5;241;43m=\u001b[39;49m\u001b[43mon\u001b[49m\u001b[43m,\u001b[49m\n\u001b[0;32m  10824\u001b[0m \u001b[43m        \u001b[49m\u001b[43mleft_on\u001b[49m\u001b[38;5;241;43m=\u001b[39;49m\u001b[43mleft_on\u001b[49m\u001b[43m,\u001b[49m\n\u001b[0;32m  10825\u001b[0m \u001b[43m        \u001b[49m\u001b[43mright_on\u001b[49m\u001b[38;5;241;43m=\u001b[39;49m\u001b[43mright_on\u001b[49m\u001b[43m,\u001b[49m\n\u001b[0;32m  10826\u001b[0m \u001b[43m        \u001b[49m\u001b[43mleft_index\u001b[49m\u001b[38;5;241;43m=\u001b[39;49m\u001b[43mleft_index\u001b[49m\u001b[43m,\u001b[49m\n\u001b[0;32m  10827\u001b[0m \u001b[43m        \u001b[49m\u001b[43mright_index\u001b[49m\u001b[38;5;241;43m=\u001b[39;49m\u001b[43mright_index\u001b[49m\u001b[43m,\u001b[49m\n\u001b[0;32m  10828\u001b[0m \u001b[43m        \u001b[49m\u001b[43msort\u001b[49m\u001b[38;5;241;43m=\u001b[39;49m\u001b[43msort\u001b[49m\u001b[43m,\u001b[49m\n\u001b[0;32m  10829\u001b[0m \u001b[43m        \u001b[49m\u001b[43msuffixes\u001b[49m\u001b[38;5;241;43m=\u001b[39;49m\u001b[43msuffixes\u001b[49m\u001b[43m,\u001b[49m\n\u001b[0;32m  10830\u001b[0m \u001b[43m        \u001b[49m\u001b[43mcopy\u001b[49m\u001b[38;5;241;43m=\u001b[39;49m\u001b[43mcopy\u001b[49m\u001b[43m,\u001b[49m\n\u001b[0;32m  10831\u001b[0m \u001b[43m        \u001b[49m\u001b[43mindicator\u001b[49m\u001b[38;5;241;43m=\u001b[39;49m\u001b[43mindicator\u001b[49m\u001b[43m,\u001b[49m\n\u001b[0;32m  10832\u001b[0m \u001b[43m        \u001b[49m\u001b[43mvalidate\u001b[49m\u001b[38;5;241;43m=\u001b[39;49m\u001b[43mvalidate\u001b[49m\u001b[43m,\u001b[49m\n\u001b[0;32m  10833\u001b[0m \u001b[43m    \u001b[49m\u001b[43m)\u001b[49m\n",
      "File \u001b[1;32m~\\AppData\\Roaming\\Python\\Python39\\site-packages\\pandas\\core\\reshape\\merge.py:170\u001b[0m, in \u001b[0;36mmerge\u001b[1;34m(left, right, how, on, left_on, right_on, left_index, right_index, sort, suffixes, copy, indicator, validate)\u001b[0m\n\u001b[0;32m    155\u001b[0m     \u001b[38;5;28;01mreturn\u001b[39;00m _cross_merge(\n\u001b[0;32m    156\u001b[0m         left_df,\n\u001b[0;32m    157\u001b[0m         right_df,\n\u001b[1;32m   (...)\u001b[0m\n\u001b[0;32m    167\u001b[0m         copy\u001b[38;5;241m=\u001b[39mcopy,\n\u001b[0;32m    168\u001b[0m     )\n\u001b[0;32m    169\u001b[0m \u001b[38;5;28;01melse\u001b[39;00m:\n\u001b[1;32m--> 170\u001b[0m     op \u001b[38;5;241m=\u001b[39m \u001b[43m_MergeOperation\u001b[49m\u001b[43m(\u001b[49m\n\u001b[0;32m    171\u001b[0m \u001b[43m        \u001b[49m\u001b[43mleft_df\u001b[49m\u001b[43m,\u001b[49m\n\u001b[0;32m    172\u001b[0m \u001b[43m        \u001b[49m\u001b[43mright_df\u001b[49m\u001b[43m,\u001b[49m\n\u001b[0;32m    173\u001b[0m \u001b[43m        \u001b[49m\u001b[43mhow\u001b[49m\u001b[38;5;241;43m=\u001b[39;49m\u001b[43mhow\u001b[49m\u001b[43m,\u001b[49m\n\u001b[0;32m    174\u001b[0m \u001b[43m        \u001b[49m\u001b[43mon\u001b[49m\u001b[38;5;241;43m=\u001b[39;49m\u001b[43mon\u001b[49m\u001b[43m,\u001b[49m\n\u001b[0;32m    175\u001b[0m \u001b[43m        \u001b[49m\u001b[43mleft_on\u001b[49m\u001b[38;5;241;43m=\u001b[39;49m\u001b[43mleft_on\u001b[49m\u001b[43m,\u001b[49m\n\u001b[0;32m    176\u001b[0m \u001b[43m        \u001b[49m\u001b[43mright_on\u001b[49m\u001b[38;5;241;43m=\u001b[39;49m\u001b[43mright_on\u001b[49m\u001b[43m,\u001b[49m\n\u001b[0;32m    177\u001b[0m \u001b[43m        \u001b[49m\u001b[43mleft_index\u001b[49m\u001b[38;5;241;43m=\u001b[39;49m\u001b[43mleft_index\u001b[49m\u001b[43m,\u001b[49m\n\u001b[0;32m    178\u001b[0m \u001b[43m        \u001b[49m\u001b[43mright_index\u001b[49m\u001b[38;5;241;43m=\u001b[39;49m\u001b[43mright_index\u001b[49m\u001b[43m,\u001b[49m\n\u001b[0;32m    179\u001b[0m \u001b[43m        \u001b[49m\u001b[43msort\u001b[49m\u001b[38;5;241;43m=\u001b[39;49m\u001b[43msort\u001b[49m\u001b[43m,\u001b[49m\n\u001b[0;32m    180\u001b[0m \u001b[43m        \u001b[49m\u001b[43msuffixes\u001b[49m\u001b[38;5;241;43m=\u001b[39;49m\u001b[43msuffixes\u001b[49m\u001b[43m,\u001b[49m\n\u001b[0;32m    181\u001b[0m \u001b[43m        \u001b[49m\u001b[43mindicator\u001b[49m\u001b[38;5;241;43m=\u001b[39;49m\u001b[43mindicator\u001b[49m\u001b[43m,\u001b[49m\n\u001b[0;32m    182\u001b[0m \u001b[43m        \u001b[49m\u001b[43mvalidate\u001b[49m\u001b[38;5;241;43m=\u001b[39;49m\u001b[43mvalidate\u001b[49m\u001b[43m,\u001b[49m\n\u001b[0;32m    183\u001b[0m \u001b[43m    \u001b[49m\u001b[43m)\u001b[49m\n\u001b[0;32m    184\u001b[0m     \u001b[38;5;28;01mreturn\u001b[39;00m op\u001b[38;5;241m.\u001b[39mget_result(copy\u001b[38;5;241m=\u001b[39mcopy)\n",
      "File \u001b[1;32m~\\AppData\\Roaming\\Python\\Python39\\site-packages\\pandas\\core\\reshape\\merge.py:794\u001b[0m, in \u001b[0;36m_MergeOperation.__init__\u001b[1;34m(self, left, right, how, on, left_on, right_on, left_index, right_index, sort, suffixes, indicator, validate)\u001b[0m\n\u001b[0;32m    784\u001b[0m     \u001b[38;5;28;01mraise\u001b[39;00m MergeError(msg)\n\u001b[0;32m    786\u001b[0m \u001b[38;5;28mself\u001b[39m\u001b[38;5;241m.\u001b[39mleft_on, \u001b[38;5;28mself\u001b[39m\u001b[38;5;241m.\u001b[39mright_on \u001b[38;5;241m=\u001b[39m \u001b[38;5;28mself\u001b[39m\u001b[38;5;241m.\u001b[39m_validate_left_right_on(left_on, right_on)\n\u001b[0;32m    788\u001b[0m (\n\u001b[0;32m    789\u001b[0m     \u001b[38;5;28mself\u001b[39m\u001b[38;5;241m.\u001b[39mleft_join_keys,\n\u001b[0;32m    790\u001b[0m     \u001b[38;5;28mself\u001b[39m\u001b[38;5;241m.\u001b[39mright_join_keys,\n\u001b[0;32m    791\u001b[0m     \u001b[38;5;28mself\u001b[39m\u001b[38;5;241m.\u001b[39mjoin_names,\n\u001b[0;32m    792\u001b[0m     left_drop,\n\u001b[0;32m    793\u001b[0m     right_drop,\n\u001b[1;32m--> 794\u001b[0m ) \u001b[38;5;241m=\u001b[39m \u001b[38;5;28;43mself\u001b[39;49m\u001b[38;5;241;43m.\u001b[39;49m\u001b[43m_get_merge_keys\u001b[49m\u001b[43m(\u001b[49m\u001b[43m)\u001b[49m\n\u001b[0;32m    796\u001b[0m \u001b[38;5;28;01mif\u001b[39;00m left_drop:\n\u001b[0;32m    797\u001b[0m     \u001b[38;5;28mself\u001b[39m\u001b[38;5;241m.\u001b[39mleft \u001b[38;5;241m=\u001b[39m \u001b[38;5;28mself\u001b[39m\u001b[38;5;241m.\u001b[39mleft\u001b[38;5;241m.\u001b[39m_drop_labels_or_levels(left_drop)\n",
      "File \u001b[1;32m~\\AppData\\Roaming\\Python\\Python39\\site-packages\\pandas\\core\\reshape\\merge.py:1297\u001b[0m, in \u001b[0;36m_MergeOperation._get_merge_keys\u001b[1;34m(self)\u001b[0m\n\u001b[0;32m   1295\u001b[0m rk \u001b[38;5;241m=\u001b[39m cast(Hashable, rk)\n\u001b[0;32m   1296\u001b[0m \u001b[38;5;28;01mif\u001b[39;00m rk \u001b[38;5;129;01mis\u001b[39;00m \u001b[38;5;129;01mnot\u001b[39;00m \u001b[38;5;28;01mNone\u001b[39;00m:\n\u001b[1;32m-> 1297\u001b[0m     right_keys\u001b[38;5;241m.\u001b[39mappend(\u001b[43mright\u001b[49m\u001b[38;5;241;43m.\u001b[39;49m\u001b[43m_get_label_or_level_values\u001b[49m\u001b[43m(\u001b[49m\u001b[43mrk\u001b[49m\u001b[43m)\u001b[49m)\n\u001b[0;32m   1298\u001b[0m \u001b[38;5;28;01melse\u001b[39;00m:\n\u001b[0;32m   1299\u001b[0m     \u001b[38;5;66;03m# work-around for merge_asof(right_index=True)\u001b[39;00m\n\u001b[0;32m   1300\u001b[0m     right_keys\u001b[38;5;241m.\u001b[39mappend(right\u001b[38;5;241m.\u001b[39mindex\u001b[38;5;241m.\u001b[39m_values)\n",
      "File \u001b[1;32m~\\AppData\\Roaming\\Python\\Python39\\site-packages\\pandas\\core\\generic.py:1905\u001b[0m, in \u001b[0;36mNDFrame._get_label_or_level_values\u001b[1;34m(self, key, axis)\u001b[0m\n\u001b[0;32m   1902\u001b[0m other_axes \u001b[38;5;241m=\u001b[39m [ax \u001b[38;5;28;01mfor\u001b[39;00m ax \u001b[38;5;129;01min\u001b[39;00m \u001b[38;5;28mrange\u001b[39m(\u001b[38;5;28mself\u001b[39m\u001b[38;5;241m.\u001b[39m_AXIS_LEN) \u001b[38;5;28;01mif\u001b[39;00m ax \u001b[38;5;241m!=\u001b[39m axis]\n\u001b[0;32m   1904\u001b[0m \u001b[38;5;28;01mif\u001b[39;00m \u001b[38;5;28mself\u001b[39m\u001b[38;5;241m.\u001b[39m_is_label_reference(key, axis\u001b[38;5;241m=\u001b[39maxis):\n\u001b[1;32m-> 1905\u001b[0m     \u001b[38;5;28;43mself\u001b[39;49m\u001b[38;5;241;43m.\u001b[39;49m\u001b[43m_check_label_or_level_ambiguity\u001b[49m\u001b[43m(\u001b[49m\u001b[43mkey\u001b[49m\u001b[43m,\u001b[49m\u001b[43m \u001b[49m\u001b[43maxis\u001b[49m\u001b[38;5;241;43m=\u001b[39;49m\u001b[43maxis\u001b[49m\u001b[43m)\u001b[49m\n\u001b[0;32m   1906\u001b[0m     values \u001b[38;5;241m=\u001b[39m \u001b[38;5;28mself\u001b[39m\u001b[38;5;241m.\u001b[39mxs(key, axis\u001b[38;5;241m=\u001b[39mother_axes[\u001b[38;5;241m0\u001b[39m])\u001b[38;5;241m.\u001b[39m_values\n\u001b[0;32m   1907\u001b[0m \u001b[38;5;28;01melif\u001b[39;00m \u001b[38;5;28mself\u001b[39m\u001b[38;5;241m.\u001b[39m_is_level_reference(key, axis\u001b[38;5;241m=\u001b[39maxis):\n",
      "File \u001b[1;32m~\\AppData\\Roaming\\Python\\Python39\\site-packages\\pandas\\core\\generic.py:1867\u001b[0m, in \u001b[0;36mNDFrame._check_label_or_level_ambiguity\u001b[1;34m(self, key, axis)\u001b[0m\n\u001b[0;32m   1859\u001b[0m label_article, label_type \u001b[38;5;241m=\u001b[39m (\n\u001b[0;32m   1860\u001b[0m     (\u001b[38;5;124m\"\u001b[39m\u001b[38;5;124ma\u001b[39m\u001b[38;5;124m\"\u001b[39m, \u001b[38;5;124m\"\u001b[39m\u001b[38;5;124mcolumn\u001b[39m\u001b[38;5;124m\"\u001b[39m) \u001b[38;5;28;01mif\u001b[39;00m axis_int \u001b[38;5;241m==\u001b[39m \u001b[38;5;241m0\u001b[39m \u001b[38;5;28;01melse\u001b[39;00m (\u001b[38;5;124m\"\u001b[39m\u001b[38;5;124man\u001b[39m\u001b[38;5;124m\"\u001b[39m, \u001b[38;5;124m\"\u001b[39m\u001b[38;5;124mindex\u001b[39m\u001b[38;5;124m\"\u001b[39m)\n\u001b[0;32m   1861\u001b[0m )\n\u001b[0;32m   1863\u001b[0m msg \u001b[38;5;241m=\u001b[39m (\n\u001b[0;32m   1864\u001b[0m     \u001b[38;5;124mf\u001b[39m\u001b[38;5;124m\"\u001b[39m\u001b[38;5;124m'\u001b[39m\u001b[38;5;132;01m{\u001b[39;00mkey\u001b[38;5;132;01m}\u001b[39;00m\u001b[38;5;124m'\u001b[39m\u001b[38;5;124m is both \u001b[39m\u001b[38;5;132;01m{\u001b[39;00mlevel_article\u001b[38;5;132;01m}\u001b[39;00m\u001b[38;5;124m \u001b[39m\u001b[38;5;132;01m{\u001b[39;00mlevel_type\u001b[38;5;132;01m}\u001b[39;00m\u001b[38;5;124m level and \u001b[39m\u001b[38;5;124m\"\u001b[39m\n\u001b[0;32m   1865\u001b[0m     \u001b[38;5;124mf\u001b[39m\u001b[38;5;124m\"\u001b[39m\u001b[38;5;132;01m{\u001b[39;00mlabel_article\u001b[38;5;132;01m}\u001b[39;00m\u001b[38;5;124m \u001b[39m\u001b[38;5;132;01m{\u001b[39;00mlabel_type\u001b[38;5;132;01m}\u001b[39;00m\u001b[38;5;124m label, which is ambiguous.\u001b[39m\u001b[38;5;124m\"\u001b[39m\n\u001b[0;32m   1866\u001b[0m )\n\u001b[1;32m-> 1867\u001b[0m \u001b[38;5;28;01mraise\u001b[39;00m \u001b[38;5;167;01mValueError\u001b[39;00m(msg)\n",
      "\u001b[1;31mValueError\u001b[0m: 'date' is both an index level and a column label, which is ambiguous."
     ]
    }
   ],
   "source": [
    "port_ret, wght=momreturns_w(crsp, 10)"
   ]
  },
  {
   "cell_type": "code",
   "execution_count": 24,
   "metadata": {
    "colab": {
     "base_uri": "https://localhost:8080/",
     "height": 204
    },
    "colab_type": "code",
    "executionInfo": {
     "elapsed": 288,
     "status": "ok",
     "timestamp": 1579052295335,
     "user": {
      "displayName": "yuchi yao",
      "photoUrl": "",
      "userId": "00457884373990713813"
     },
     "user_tz": 300
    },
    "id": "GtU-v7OTjO4X",
    "outputId": "299b5b84-5e34-439d-e0e7-b8fd77e43891",
    "scrolled": true
   },
   "outputs": [
    {
     "data": {
      "text/html": [
       "<div>\n",
       "<style scoped>\n",
       "    .dataframe tbody tr th:only-of-type {\n",
       "        vertical-align: middle;\n",
       "    }\n",
       "\n",
       "    .dataframe tbody tr th {\n",
       "        vertical-align: top;\n",
       "    }\n",
       "\n",
       "    .dataframe thead th {\n",
       "        text-align: right;\n",
       "    }\n",
       "</style>\n",
       "<table border=\"1\" class=\"dataframe\">\n",
       "  <thead>\n",
       "    <tr style=\"text-align: right;\">\n",
       "      <th></th>\n",
       "      <th>date</th>\n",
       "      <th>permno</th>\n",
       "      <th>ret</th>\n",
       "      <th>me</th>\n",
       "      <th>vol</th>\n",
       "      <th>prc</th>\n",
       "      <th>volume</th>\n",
       "      <th>grossret</th>\n",
       "      <th>cumret</th>\n",
       "      <th>mom</th>\n",
       "      <th>mom_group</th>\n",
       "      <th>Wght</th>\n",
       "      <th>mom_group_lead</th>\n",
       "      <th>Wght_lead</th>\n",
       "      <th>port_vwret</th>\n",
       "    </tr>\n",
       "  </thead>\n",
       "  <tbody>\n",
       "    <tr>\n",
       "      <th>0</th>\n",
       "      <td>2006-02-28</td>\n",
       "      <td>10001</td>\n",
       "      <td>-0.010537</td>\n",
       "      <td>27522.091006</td>\n",
       "      <td>439.0</td>\n",
       "      <td>9.390</td>\n",
       "      <td>0.412221</td>\n",
       "      <td>0.989463</td>\n",
       "      <td>0.499266</td>\n",
       "      <td>0.411365</td>\n",
       "      <td>m8</td>\n",
       "      <td>0.000016</td>\n",
       "      <td>m8</td>\n",
       "      <td>0.000024</td>\n",
       "      <td>-0.003999</td>\n",
       "    </tr>\n",
       "    <tr>\n",
       "      <th>1</th>\n",
       "      <td>2006-03-31</td>\n",
       "      <td>10001</td>\n",
       "      <td>0.170394</td>\n",
       "      <td>32222.679329</td>\n",
       "      <td>777.0</td>\n",
       "      <td>10.990</td>\n",
       "      <td>0.853923</td>\n",
       "      <td>1.170394</td>\n",
       "      <td>0.560008</td>\n",
       "      <td>0.446795</td>\n",
       "      <td>m8</td>\n",
       "      <td>0.000024</td>\n",
       "      <td>m8</td>\n",
       "      <td>0.000020</td>\n",
       "      <td>0.032930</td>\n",
       "    </tr>\n",
       "    <tr>\n",
       "      <th>2</th>\n",
       "      <td>2006-04-30</td>\n",
       "      <td>10001</td>\n",
       "      <td>-0.094631</td>\n",
       "      <td>29173.399441</td>\n",
       "      <td>883.0</td>\n",
       "      <td>9.950</td>\n",
       "      <td>0.878585</td>\n",
       "      <td>0.905369</td>\n",
       "      <td>0.526377</td>\n",
       "      <td>0.499266</td>\n",
       "      <td>m8</td>\n",
       "      <td>0.000020</td>\n",
       "      <td>m8</td>\n",
       "      <td>0.000024</td>\n",
       "      <td>0.018943</td>\n",
       "    </tr>\n",
       "    <tr>\n",
       "      <th>3</th>\n",
       "      <td>2006-05-31</td>\n",
       "      <td>10001</td>\n",
       "      <td>-0.010452</td>\n",
       "      <td>28633.911396</td>\n",
       "      <td>319.0</td>\n",
       "      <td>9.766</td>\n",
       "      <td>0.311535</td>\n",
       "      <td>0.989548</td>\n",
       "      <td>0.239037</td>\n",
       "      <td>0.560008</td>\n",
       "      <td>m8</td>\n",
       "      <td>0.000024</td>\n",
       "      <td>m7</td>\n",
       "      <td>0.000023</td>\n",
       "      <td>-0.046612</td>\n",
       "    </tr>\n",
       "    <tr>\n",
       "      <th>4</th>\n",
       "      <td>2006-06-30</td>\n",
       "      <td>10001</td>\n",
       "      <td>-0.076387</td>\n",
       "      <td>26464.681343</td>\n",
       "      <td>1186.0</td>\n",
       "      <td>9.020</td>\n",
       "      <td>1.069772</td>\n",
       "      <td>0.923613</td>\n",
       "      <td>0.014145</td>\n",
       "      <td>0.526377</td>\n",
       "      <td>m7</td>\n",
       "      <td>0.000023</td>\n",
       "      <td>m6</td>\n",
       "      <td>0.000017</td>\n",
       "      <td>0.001877</td>\n",
       "    </tr>\n",
       "  </tbody>\n",
       "</table>\n",
       "</div>"
      ],
      "text/plain": [
       "        date  permno       ret            me     vol     prc    volume  \\\n",
       "0 2006-02-28   10001 -0.010537  27522.091006   439.0   9.390  0.412221   \n",
       "1 2006-03-31   10001  0.170394  32222.679329   777.0  10.990  0.853923   \n",
       "2 2006-04-30   10001 -0.094631  29173.399441   883.0   9.950  0.878585   \n",
       "3 2006-05-31   10001 -0.010452  28633.911396   319.0   9.766  0.311535   \n",
       "4 2006-06-30   10001 -0.076387  26464.681343  1186.0   9.020  1.069772   \n",
       "\n",
       "   grossret    cumret       mom mom_group      Wght mom_group_lead  Wght_lead  \\\n",
       "0  0.989463  0.499266  0.411365        m8  0.000016             m8   0.000024   \n",
       "1  1.170394  0.560008  0.446795        m8  0.000024             m8   0.000020   \n",
       "2  0.905369  0.526377  0.499266        m8  0.000020             m8   0.000024   \n",
       "3  0.989548  0.239037  0.560008        m8  0.000024             m7   0.000023   \n",
       "4  0.923613  0.014145  0.526377        m7  0.000023             m6   0.000017   \n",
       "\n",
       "   port_vwret  \n",
       "0   -0.003999  \n",
       "1    0.032930  \n",
       "2    0.018943  \n",
       "3   -0.046612  \n",
       "4    0.001877  "
      ]
     },
     "execution_count": 24,
     "metadata": {},
     "output_type": "execute_result"
    }
   ],
   "source": [
    "wght.head()"
   ]
  },
  {
   "cell_type": "code",
   "execution_count": 88,
   "metadata": {
    "colab": {},
    "colab_type": "code",
    "id": "98LrPVHljO4Z"
   },
   "outputs": [],
   "source": [
    "# construct dollars of each stock that need to be bought (sold) at date t+1\n",
    "mom=wght.copy()\n",
    "mom['trade']=(mom.Wght_lead*(mom.mom_group==mom.mom_group_lead)-mom.Wght*(1+mom.ret)/(1+mom.port_vwret))\n",
    "mom['trade_newbuys']=(~(mom.mom_group==mom.mom_group_lead))*mom.Wght_lead"
   ]
  },
  {
   "cell_type": "code",
   "execution_count": 89,
   "metadata": {
    "colab": {
     "base_uri": "https://localhost:8080/",
     "height": 296
    },
    "colab_type": "code",
    "executionInfo": {
     "elapsed": 2440,
     "status": "ok",
     "timestamp": 1579052454195,
     "user": {
      "displayName": "yuchi yao",
      "photoUrl": "",
      "userId": "00457884373990713813"
     },
     "user_tz": 300
    },
    "id": "Lc1XaDS1jO4b",
    "outputId": "9c02d4dc-e893-4dc4-de4f-4a095fa08a9c"
   },
   "outputs": [
    {
     "data": {
      "text/plain": [
       "<AxesSubplot:xlabel='date'>"
      ]
     },
     "execution_count": 89,
     "metadata": {},
     "output_type": "execute_result"
    },
    {
     "data": {
      "image/png": "[encoded data removed]",
      "text/plain": [
       "<Figure size 432x288 with 1 Axes>"
      ]
     },
     "metadata": {
      "needs_background": "light"
     },
     "output_type": "display_data"
    }
   ],
   "source": [
    "# per dollar of position how much do you have to trade every month?\n",
    "mom.groupby(['date','mom_group']).trade.apply(lambda x:x.abs().sum()).loc[:,'m9'].plot()\n",
    "mom.groupby(['date','mom_group_lead']).trade_newbuys.apply(lambda x:x.abs().sum()).loc[:,'m9'].plot()"
   ]
  },
  {
   "cell_type": "code",
   "execution_count": 91,
   "metadata": {},
   "outputs": [
    {
     "data": {
      "text/plain": [
       "<AxesSubplot:xlabel='date'>"
      ]
     },
     "execution_count": 91,
     "metadata": {},
     "output_type": "execute_result"
    },
    {
     "data": {
      "image/png": "[encoded data removed]",
      "text/plain": [
       "<Figure size 432x288 with 1 Axes>"
      ]
     },
     "metadata": {
      "needs_background": "light"
     },
     "output_type": "display_data"
    }
   ],
   "source": [
    "total_trade=mom.groupby(['date','mom_group']).trade.apply(lambda x:x.abs().sum()).loc[:,'m9']+mom.groupby(['date','mom_group_lead']).trade_newbuys.apply(lambda x:x.abs().sum()).loc[:,'m9']\n",
    "\n",
    "total_trade.plot()"
   ]
  },
  {
   "cell_type": "code",
   "execution_count": 95,
   "metadata": {
    "colab": {},
    "colab_type": "code",
    "id": "3ZY0mYcAjO4d"
   },
   "outputs": [],
   "source": [
    "# lets look at the most illiquid stocks, the stocks that I will likely have most trouble trading\n",
    "# lets start by normalizing the amount of trade per stock volume\n",
    "\n",
    "mom['tradepervol']=mom.trade/mom.volume\n",
    "\n",
    "mom['trade_newbuyspervol']=mom.trade_newbuys/mom.volume\n",
    "\n"
   ]
  },
  {
   "cell_type": "code",
   "execution_count": 100,
   "metadata": {
    "colab": {},
    "colab_type": "code",
    "id": "bE1MWOZYjO4f",
    "outputId": "f21e2937-0ddb-4cde-f388-9a146fdbe859"
   },
   "outputs": [
    {
     "data": {
      "text/plain": [
       "<AxesSubplot:xlabel='date'>"
      ]
     },
     "execution_count": 100,
     "metadata": {},
     "output_type": "execute_result"
    },
    {
     "data": {
      "image/png": "[encoded data removed]",
      "text/plain": [
       "<Figure size 432x288 with 1 Axes>"
      ]
     },
     "metadata": {
      "needs_background": "light"
     },
     "output_type": "display_data"
    }
   ],
   "source": [
    "# this allow us to study how much of the volume of each stock I will be \"using\"\n",
    "# lets choose a position size, here in millions of dollars , because that is the normalization we used for the volume data\n",
    "Position=1e3 #(1e3 means one billion dollars)\n",
    "threshold=0.05\n",
    "(Position*(mom.groupby(['date','mom_group']).tradepervol.quantile(threshold).loc[:,'m9'])).plot()\n",
    "(Position*(mom.groupby(['date','mom_group']).tradepervol.quantile(1-threshold).loc[:,'m9'])).plot()\n",
    "\n",
    "(Position*(mom.groupby(['date','mom_group']).trade_newbuyspervol.quantile(1-threshold).loc[:,'m9'])).plot()"
   ]
  },
  {
   "cell_type": "code",
   "execution_count": 99,
   "metadata": {},
   "outputs": [
    {
     "data": {
      "text/plain": [
       "<AxesSubplot:xlabel='date'>"
      ]
     },
     "execution_count": 99,
     "metadata": {},
     "output_type": "execute_result"
    },
    {
     "data": {
      "image/png": "[encoded data removed]",
      "text/plain": [
       "<Figure size 432x288 with 1 Axes>"
      ]
     },
     "metadata": {
      "needs_background": "light"
     },
     "output_type": "display_data"
    }
   ],
   "source": []
  },
  {
   "cell_type": "markdown",
   "id": "94c7c362",
   "metadata": {},
   "source": [
    "**Tracking error**\n",
    "\n",
    "Let $$W^{wishportfolio}_t$$ and $$W^{Implementationportfolio}_t$$ weights , then consider the following regression\n",
    "\n",
    "$$W^{Implementationportfolio}_tR_{t+1}=\\alpha+\\beta W^{wishportfolio}_tR_{t+1}+\\epsilon_{t+1}$$\n",
    "\n",
    "a good implementation portfolio has $\\beta=1$ and $\\sigma(\\epsilon)$ and $\\alpha\\approx 0$.\n",
    "\n",
    "So one can think of $|\\beta-1|$, $\\sigma(\\epsilon)$ , and $\\alpha$ as three dimensions of tracking error.\n",
    "\n",
    "The $\\beta$ dimension can be more easily correted by levering up and down the tracking portoflio (of possible)\n",
    "\n",
    "The $\\sigma(\\epsilon)$ can only be corrected by simply making the implemenetation portoflio more similar to the wish portfolio. The cost of this is not obvious. Really depends how this tracking error relates to other stuff in your portfolio.\n",
    "\n",
    "$\\alpha$ is the important part. The actual cost that you expect to pay to deviate from the wish portfolio\n",
    "\n",
    "------------------------------\n",
    "\n",
    "In the industry people typicall refer to tracking error as simply\n",
    "\n",
    "$$\\sigma(W^{Implementationportfolio}_tR_{t+1}- W^{wishportfolio}_tR_{t+1})$$\n",
    "\n",
    "The volatility of a portfolio that goes long the implementation portfolio and shorts the wish portfolio.\n",
    "\n",
    "This mixes together $|\\beta-1|$, $\\sigma(\\epsilon)$ and completely ignores $\\alpha$\n",
    "\n",
    "\n",
    "In the end the Implementation portfolio is chosen by trading off  trading costs (market impact) and opportunity cost (tracking error).\n",
    "\n",
    "So you can simply construct strategies that avoid these 5% less liquid stocks, and see how much your tracking error increases and whether these tracking errors are worth the reduction in trading costs"
   ]
  },
  {
   "cell_type": "markdown",
   "id": "41c1eb6c",
   "metadata": {},
   "source": [
    "**How to construct an Implementation portfolio?**\n",
    "\n",
    "- A simple strategy: weight by trading volume -> this make sure that you use the same amount of trading volume across all your positions\n",
    "\n",
    "\n",
    "- Harder to implement: do not buy stocks that are illiquid now or likely to be illiquid next period. Amounts to add another signal interected to the momentum signal. Only buy if illiquid signal not too strong.\n",
    "\n",
    "How to change our code to implement the volume-weighted approach?\n"
   ]
  },
  {
   "cell_type": "code",
   "execution_count": 32,
   "metadata": {
    "colab": {},
    "colab_type": "code",
    "id": "69TVkEK9jO4k"
   },
   "outputs": [],
   "source": [
    "def momreturns(data, ngroups,wghtvar='me'):\n",
    "    \n",
    "    # step1. create a temporary crsp dataset\n",
    "    _tmp_crsp = data[['permno','date','ret', 'me','vol','prc']].sort_values(['permno','date']).set_index('date').drop_duplicates()\n",
    "    _tmp_crsp['volume']=_tmp_crsp['vol']*_tmp_crsp['prc'].abs()*100/1e6 # in million dollars like me\n",
    "\n",
    "    # step 2: construct the signal\n",
    "    _tmp_crsp['grossret']=_tmp_crsp['ret']+1\n",
    "    _tmp_cumret=_tmp_crsp.groupby('permno')['grossret'].rolling(window=12).apply(np.prod, raw=True)-1\n",
    "    _tmp_cumret=_tmp_cumret.reset_index().rename(columns={'grossret':'cumret'})\n",
    "\n",
    "    _tmp = pd.merge(_tmp_crsp.reset_index(), _tmp_cumret[['permno','date','cumret']], how='left', on=['permno','date'])\n",
    "    # merge the 12 month return signal back to the original database\n",
    "    _tmp['mom']=_tmp.groupby('permno')['cumret'].shift(2)\n",
    "\n",
    "    # step 3: rank assets by signal\n",
    "    mom=_tmp.sort_values(['date','permno']) # sort by date and firm identifier \n",
    "    mom=mom.dropna(subset=['mom'], how='any')# drop the row if any of these variables 'mom','ret','me' are missing\n",
    "    mom['mom_group']=mom.groupby(['date'])['mom'].transform(lambda x: pd.qcut(x, ngroups, labels=False,duplicates='drop'))\n",
    "    # create `ngroups` groups each month. Assign membership accroding to the stock ranking in the distribution of trading signal \n",
    "    # in a given month \n",
    "    # transform in string the group names\n",
    "    mom=mom.dropna(subset=['mom_group'], how='any')# drop the row if any of 'mom_group' is missing\n",
    "    mom['mom_group']=mom['mom_group'].astype(int).astype(str).apply(lambda x: 'm{}'.format(x))\n",
    "\n",
    "    mom['date']=mom['date']+MonthEnd(0) #shift all the date to end of the month\n",
    "    mom=mom.sort_values(['permno','date']) # resort \n",
    "\n",
    "    # step 4: form portfolio weights\n",
    "    def wavg_wght(group, ret_name, weight_name):\n",
    "        d = group[ret_name]\n",
    "        w = group[weight_name]\n",
    "        try:\n",
    "            group['Wght']=(w) / w.sum()\n",
    "            return group[['permno','Wght']]\n",
    "        except ZeroDivisionError:\n",
    "            return np.nan\n",
    "    # We now simply have to  use the above function to construct the portfolio\n",
    "\n",
    "    # the code below applies the function in each date,mom_group group,\n",
    "    # so it applies the function to each of these subgroups of the data set, \n",
    "    # so it retursn one time-series for each mom_group, as it average the returns of\n",
    "    # all the firms in a given group in a given date\n",
    "\n",
    "    weights = mom.groupby(['date','mom_group']).apply(wavg_wght, 'ret',wghtvar) \n",
    "\n",
    "    # merge back\n",
    "    weights=mom.merge(weights,on=['date','permno'])\n",
    "    weights=weights.sort_values(['date','permno'])\n",
    "\n",
    "    weights['mom_group_lead']=weights.groupby('permno').mom_group.shift(-1)\n",
    "    weights['Wght_lead']=weights.groupby('permno').Wght.shift(-1)\n",
    "    weights=weights.sort_values(['permno','date'])\n",
    "\n",
    "    def wavg_ret(group, ret_name, weight_name):\n",
    "        d = group[ret_name]\n",
    "        w = group[weight_name]\n",
    "        try:\n",
    "            return (d * w).sum() / w.sum()\n",
    "        except ZeroDivisionError:\n",
    "            return np.nan\n",
    "\n",
    "    port_vwret = weights.groupby(['date','mom_group']).apply(wavg_ret, 'ret','Wght')\n",
    "    port_vwret = port_vwret.reset_index().rename(columns={0:'port_vwret'})# give a name to the new time-seires\n",
    "\n",
    "\n",
    "    weights=weights.merge(port_vwret,how='left',on=['date','mom_group'])\n",
    "\n",
    "    port_vwret=port_vwret.set_index(['date','mom_group']) # set indexes\n",
    "    port_vwret=port_vwret.unstack(level=-1) # unstack so we have in each column the different portfolios, and in each \n",
    "    port_vwret=port_vwret.port_vwret\n",
    "\n",
    "    return port_vwret, weights"
   ]
  },
  {
   "cell_type": "code",
   "execution_count": 73,
   "metadata": {
    "colab": {},
    "colab_type": "code",
    "id": "l2lXrNXEjO4o"
   },
   "outputs": [],
   "source": [
    "momportfoliosme,wght=momreturns(crsp,10,wghtvar='me')\n",
    "momportfoliosvol,wght_vol=momreturns(crsp,10,wghtvar='vol')\n",
    "momportfolios=momportfoliosme.merge(momportfoliosvol,left_index=True,right_index=True,suffixes=['_me','_vol'])"
   ]
  },
  {
   "cell_type": "code",
   "execution_count": 56,
   "metadata": {
    "colab": {},
    "colab_type": "code",
    "id": "TVqiD8_QjO4u",
    "outputId": "da98ed1f-9867-40f6-9a5c-8b9f93e259f8",
    "scrolled": true
   },
   "outputs": [
    {
     "data": {
      "text/plain": [
       "<AxesSubplot:xlabel='date'>"
      ]
     },
     "execution_count": 56,
     "metadata": {},
     "output_type": "execute_result"
    },
    {
     "data": {
      "image/png": "[encoded data removed]",
      "text/plain": [
       "<Figure size 432x288 with 1 Axes>"
      ]
     },
     "metadata": {
      "needs_background": "light"
     },
     "output_type": "display_data"
    }
   ],
   "source": [
    "momportfolios[['m9_me','m9_vol']].plot()"
   ]
  },
  {
   "cell_type": "markdown",
   "id": "3d47135a",
   "metadata": {},
   "source": [
    "Is this good how do you compare?\n",
    "\n",
    "Look at tracking error\n",
    "\n",
    "Don't be fooled by the long-only performance--replciating the market is easy!"
   ]
  },
  {
   "cell_type": "code",
   "execution_count": 57,
   "metadata": {
    "colab": {},
    "colab_type": "code",
    "id": "8agsojpyjO4w",
    "outputId": "bd2ac470-a7fc-4cd2-c95e-fdda3b3ece0c"
   },
   "outputs": [
    {
     "data": {
      "text/html": [
       "<table class=\"simpletable\">\n",
       "<caption>OLS Regression Results</caption>\n",
       "<tr>\n",
       "  <th>Dep. Variable:</th>         <td>m9_vol</td>      <th>  R-squared:         </th> <td>   0.611</td>\n",
       "</tr>\n",
       "<tr>\n",
       "  <th>Model:</th>                   <td>OLS</td>       <th>  Adj. R-squared:    </th> <td>   0.609</td>\n",
       "</tr>\n",
       "<tr>\n",
       "  <th>Method:</th>             <td>Least Squares</td>  <th>  F-statistic:       </th> <td>   277.7</td>\n",
       "</tr>\n",
       "<tr>\n",
       "  <th>Date:</th>             <td>Wed, 01 May 2024</td> <th>  Prob (F-statistic):</th> <td>4.18e-38</td>\n",
       "</tr>\n",
       "<tr>\n",
       "  <th>Time:</th>                 <td>17:39:33</td>     <th>  Log-Likelihood:    </th> <td>  242.81</td>\n",
       "</tr>\n",
       "<tr>\n",
       "  <th>No. Observations:</th>      <td>   179</td>      <th>  AIC:               </th> <td>  -481.6</td>\n",
       "</tr>\n",
       "<tr>\n",
       "  <th>Df Residuals:</th>          <td>   177</td>      <th>  BIC:               </th> <td>  -475.2</td>\n",
       "</tr>\n",
       "<tr>\n",
       "  <th>Df Model:</th>              <td>     1</td>      <th>                     </th>     <td> </td>   \n",
       "</tr>\n",
       "<tr>\n",
       "  <th>Covariance Type:</th>      <td>nonrobust</td>    <th>                     </th>     <td> </td>   \n",
       "</tr>\n",
       "</table>\n",
       "<table class=\"simpletable\">\n",
       "<tr>\n",
       "    <td></td>       <th>coef</th>     <th>std err</th>      <th>t</th>      <th>P>|t|</th>  <th>[0.025</th>    <th>0.975]</th>  \n",
       "</tr>\n",
       "<tr>\n",
       "  <th>const</th> <td>   -0.0050</td> <td>    0.005</td> <td>   -1.020</td> <td> 0.309</td> <td>   -0.015</td> <td>    0.005</td>\n",
       "</tr>\n",
       "<tr>\n",
       "  <th>m9_me</th> <td>    1.3036</td> <td>    0.078</td> <td>   16.664</td> <td> 0.000</td> <td>    1.149</td> <td>    1.458</td>\n",
       "</tr>\n",
       "</table>\n",
       "<table class=\"simpletable\">\n",
       "<tr>\n",
       "  <th>Omnibus:</th>       <td>207.284</td> <th>  Durbin-Watson:     </th> <td>   1.986</td>\n",
       "</tr>\n",
       "<tr>\n",
       "  <th>Prob(Omnibus):</th> <td> 0.000</td>  <th>  Jarque-Bera (JB):  </th> <td>8869.659</td>\n",
       "</tr>\n",
       "<tr>\n",
       "  <th>Skew:</th>          <td> 4.469</td>  <th>  Prob(JB):          </th> <td>    0.00</td>\n",
       "</tr>\n",
       "<tr>\n",
       "  <th>Kurtosis:</th>      <td>36.307</td>  <th>  Cond. No.          </th> <td>    16.7</td>\n",
       "</tr>\n",
       "</table><br/><br/>Notes:<br/>[1] Standard Errors assume that the covariance matrix of the errors is correctly specified."
      ],
      "text/plain": [
       "<class 'statsmodels.iolib.summary.Summary'>\n",
       "\"\"\"\n",
       "                            OLS Regression Results                            \n",
       "==============================================================================\n",
       "Dep. Variable:                 m9_vol   R-squared:                       0.611\n",
       "Model:                            OLS   Adj. R-squared:                  0.609\n",
       "Method:                 Least Squares   F-statistic:                     277.7\n",
       "Date:                Wed, 01 May 2024   Prob (F-statistic):           4.18e-38\n",
       "Time:                        17:39:33   Log-Likelihood:                 242.81\n",
       "No. Observations:                 179   AIC:                            -481.6\n",
       "Df Residuals:                     177   BIC:                            -475.2\n",
       "Df Model:                           1                                         \n",
       "Covariance Type:            nonrobust                                         \n",
       "==============================================================================\n",
       "                 coef    std err          t      P>|t|      [0.025      0.975]\n",
       "------------------------------------------------------------------------------\n",
       "const         -0.0050      0.005     -1.020      0.309      -0.015       0.005\n",
       "m9_me          1.3036      0.078     16.664      0.000       1.149       1.458\n",
       "==============================================================================\n",
       "Omnibus:                      207.284   Durbin-Watson:                   1.986\n",
       "Prob(Omnibus):                  0.000   Jarque-Bera (JB):             8869.659\n",
       "Skew:                           4.469   Prob(JB):                         0.00\n",
       "Kurtosis:                      36.307   Cond. No.                         16.7\n",
       "==============================================================================\n",
       "\n",
       "Notes:\n",
       "[1] Standard Errors assume that the covariance matrix of the errors is correctly specified.\n",
       "\"\"\""
      ]
     },
     "execution_count": 57,
     "metadata": {},
     "output_type": "execute_result"
    }
   ],
   "source": [
    "# lets look at it's tracking error\n",
    "y=momportfolios['m9_vol']\n",
    "x=momportfolios['m9_me']\n",
    "x=sm.add_constant(x)\n",
    "results = sm.OLS(y,x).fit()\n",
    "results.summary()"
   ]
  },
  {
   "cell_type": "markdown",
   "id": "c4417b5f",
   "metadata": {},
   "source": [
    "Observations:\n",
    "\n",
    "- The beta difference can be adjusted by taking a smaller position on the implementation portfolio\n",
    "\n",
    "- The alpha is the actual tracking error loss. How much you expect to loose.\n",
    "\n",
    "- One calculation that people do is to see how much you are getting for your momentum exposure\n"
   ]
  },
  {
   "cell_type": "code",
   "execution_count": 44,
   "metadata": {
    "colab": {},
    "colab_type": "code",
    "id": "9-0zTWK-jO4y",
    "outputId": "e90f2c8c-15c6-4aaa-e411-1b6d3bfe3d2d"
   },
   "outputs": [
    {
     "data": {
      "text/plain": [
       "[0.17998714127139948, 0.2261181726535535]"
      ]
     },
     "execution_count": 44,
     "metadata": {},
     "output_type": "execute_result"
    }
   ],
   "source": [
    "[momportfolios['m9_vol'].mean()/results.params[1]*12,momportfolios['m9_me'].mean()*12]"
   ]
  },
  {
   "cell_type": "markdown",
   "id": "35caafbd",
   "metadata": {},
   "source": [
    "\n",
    "\n",
    "But be careful to not over interpret this. We are working today with a very short sample, less than 20 years, for average returns tests that is not much at all.\n",
    "\n",
    "But beta/residulas are well measured even in fairly short samples.\n",
    "\n",
    "\n",
    "In addition to that you also have to eat the strategy residual risk"
   ]
  },
  {
   "cell_type": "code",
   "execution_count": 45,
   "metadata": {
    "colab": {},
    "colab_type": "code",
    "id": "5zUp5pqXjO41",
    "outputId": "4f652575-7b2a-4928-e835-bb758bf54395"
   },
   "outputs": [
    {
     "data": {
      "text/plain": [
       "[0.06249878812223737, 0.06005053427493518]"
      ]
     },
     "execution_count": 45,
     "metadata": {},
     "output_type": "execute_result"
    }
   ],
   "source": [
    "[results.resid.std(),momportfolios['m9_me'].std()]"
   ]
  },
  {
   "cell_type": "markdown",
   "id": "77826839",
   "metadata": {},
   "source": [
    "It is sizable, about the level of the original strategy volatility"
   ]
  },
  {
   "cell_type": "markdown",
   "id": "4fed8326",
   "metadata": {},
   "source": [
    "**How our implemented strategy compare with the desired strategy?**\n",
    "\n"
   ]
  },
  {
   "cell_type": "code",
   "execution_count": 69,
   "metadata": {},
   "outputs": [
    {
     "data": {
      "text/plain": [
       "Mkt-RF    0.100955\n",
       "SMB       0.012654\n",
       "HML       0.011914\n",
       "RMW       0.041875\n",
       "CMA       0.012701\n",
       "Mom       0.069910\n",
       "dtype: float64"
      ]
     },
     "execution_count": 69,
     "metadata": {},
     "output_type": "execute_result"
    }
   ],
   "source": [
    "df=pd.read_pickle('https://raw.githubusercontent.com/amoreira2/Fin418/main/assets/data/df_WarrenBAndCathieW_monthly.pkl')\n",
    "Factors=df.drop(['BRK','ARKK','RF'],axis=1)\n",
    "Factors = Factors.rename(columns={Factors.columns[-1]: 'Mom'})\n",
    "\n",
    "Factors.mean()*12"
   ]
  },
  {
   "cell_type": "code",
   "execution_count": 74,
   "metadata": {
    "colab": {},
    "colab_type": "code",
    "id": "SR1fPJlLjO5C",
    "outputId": "4edf9d7c-3834-4233-f441-3876b765e7d0"
   },
   "outputs": [
    {
     "data": {
      "text/html": [
       "<div>\n",
       "<style scoped>\n",
       "    .dataframe tbody tr th:only-of-type {\n",
       "        vertical-align: middle;\n",
       "    }\n",
       "\n",
       "    .dataframe tbody tr th {\n",
       "        vertical-align: top;\n",
       "    }\n",
       "\n",
       "    .dataframe thead th {\n",
       "        text-align: right;\n",
       "    }\n",
       "</style>\n",
       "<table border=\"1\" class=\"dataframe\">\n",
       "  <thead>\n",
       "    <tr style=\"text-align: right;\">\n",
       "      <th></th>\n",
       "      <th>m0_me</th>\n",
       "      <th>m1_me</th>\n",
       "      <th>m2_me</th>\n",
       "      <th>m3_me</th>\n",
       "      <th>m4_me</th>\n",
       "      <th>m5_me</th>\n",
       "      <th>m6_me</th>\n",
       "      <th>m7_me</th>\n",
       "      <th>m8_me</th>\n",
       "      <th>m9_me</th>\n",
       "      <th>...</th>\n",
       "      <th>m6_vol</th>\n",
       "      <th>m7_vol</th>\n",
       "      <th>m8_vol</th>\n",
       "      <th>m9_vol</th>\n",
       "      <th>Mkt-RF</th>\n",
       "      <th>SMB</th>\n",
       "      <th>HML</th>\n",
       "      <th>RMW</th>\n",
       "      <th>CMA</th>\n",
       "      <th>Mom</th>\n",
       "    </tr>\n",
       "  </thead>\n",
       "  <tbody>\n",
       "    <tr>\n",
       "      <th>2006-02-28</th>\n",
       "      <td>-0.012354</td>\n",
       "      <td>-0.006109</td>\n",
       "      <td>0.012724</td>\n",
       "      <td>0.017131</td>\n",
       "      <td>0.012390</td>\n",
       "      <td>0.014931</td>\n",
       "      <td>0.008770</td>\n",
       "      <td>0.008683</td>\n",
       "      <td>-0.003999</td>\n",
       "      <td>-0.051872</td>\n",
       "      <td>...</td>\n",
       "      <td>0.016308</td>\n",
       "      <td>0.012868</td>\n",
       "      <td>-0.016740</td>\n",
       "      <td>-0.064788</td>\n",
       "      <td>-0.0030</td>\n",
       "      <td>-0.0042</td>\n",
       "      <td>-0.0034</td>\n",
       "      <td>-0.0051</td>\n",
       "      <td>0.0191</td>\n",
       "      <td>-0.0184</td>\n",
       "    </tr>\n",
       "    <tr>\n",
       "      <th>2006-03-31</th>\n",
       "      <td>0.043584</td>\n",
       "      <td>0.029708</td>\n",
       "      <td>0.034453</td>\n",
       "      <td>0.012203</td>\n",
       "      <td>0.013299</td>\n",
       "      <td>0.005424</td>\n",
       "      <td>0.014716</td>\n",
       "      <td>0.026616</td>\n",
       "      <td>0.032930</td>\n",
       "      <td>0.054823</td>\n",
       "      <td>...</td>\n",
       "      <td>0.023306</td>\n",
       "      <td>0.102972</td>\n",
       "      <td>0.149737</td>\n",
       "      <td>0.069339</td>\n",
       "      <td>0.0146</td>\n",
       "      <td>0.0338</td>\n",
       "      <td>0.0060</td>\n",
       "      <td>0.0006</td>\n",
       "      <td>-0.0041</td>\n",
       "      <td>0.0126</td>\n",
       "    </tr>\n",
       "    <tr>\n",
       "      <th>2006-05-31</th>\n",
       "      <td>-0.026365</td>\n",
       "      <td>-0.024219</td>\n",
       "      <td>0.001555</td>\n",
       "      <td>-0.015647</td>\n",
       "      <td>-0.030534</td>\n",
       "      <td>-0.027217</td>\n",
       "      <td>-0.032916</td>\n",
       "      <td>-0.031146</td>\n",
       "      <td>-0.046612</td>\n",
       "      <td>-0.080706</td>\n",
       "      <td>...</td>\n",
       "      <td>-0.058780</td>\n",
       "      <td>-0.056930</td>\n",
       "      <td>-0.079337</td>\n",
       "      <td>-0.107404</td>\n",
       "      <td>-0.0357</td>\n",
       "      <td>-0.0285</td>\n",
       "      <td>0.0241</td>\n",
       "      <td>0.0115</td>\n",
       "      <td>0.0146</td>\n",
       "      <td>-0.0370</td>\n",
       "    </tr>\n",
       "    <tr>\n",
       "      <th>2006-06-30</th>\n",
       "      <td>-0.029358</td>\n",
       "      <td>0.006137</td>\n",
       "      <td>-0.002789</td>\n",
       "      <td>0.002618</td>\n",
       "      <td>0.004338</td>\n",
       "      <td>0.002428</td>\n",
       "      <td>0.011803</td>\n",
       "      <td>0.001877</td>\n",
       "      <td>0.023077</td>\n",
       "      <td>-0.005062</td>\n",
       "      <td>...</td>\n",
       "      <td>-0.019315</td>\n",
       "      <td>-0.004445</td>\n",
       "      <td>0.013017</td>\n",
       "      <td>-0.067229</td>\n",
       "      <td>-0.0035</td>\n",
       "      <td>-0.0024</td>\n",
       "      <td>0.0085</td>\n",
       "      <td>0.0132</td>\n",
       "      <td>-0.0007</td>\n",
       "      <td>0.0154</td>\n",
       "    </tr>\n",
       "    <tr>\n",
       "      <th>2006-07-31</th>\n",
       "      <td>-0.058296</td>\n",
       "      <td>-0.036734</td>\n",
       "      <td>0.022658</td>\n",
       "      <td>-0.005353</td>\n",
       "      <td>0.024988</td>\n",
       "      <td>0.010822</td>\n",
       "      <td>0.005927</td>\n",
       "      <td>-0.008269</td>\n",
       "      <td>-0.022406</td>\n",
       "      <td>-0.046551</td>\n",
       "      <td>...</td>\n",
       "      <td>-0.008441</td>\n",
       "      <td>-0.033398</td>\n",
       "      <td>-0.040144</td>\n",
       "      <td>-0.102966</td>\n",
       "      <td>-0.0078</td>\n",
       "      <td>-0.0363</td>\n",
       "      <td>0.0260</td>\n",
       "      <td>0.0163</td>\n",
       "      <td>0.0090</td>\n",
       "      <td>-0.0212</td>\n",
       "    </tr>\n",
       "  </tbody>\n",
       "</table>\n",
       "<p>5 rows × 26 columns</p>\n",
       "</div>"
      ],
      "text/plain": [
       "               m0_me     m1_me     m2_me     m3_me     m4_me     m5_me  \\\n",
       "2006-02-28 -0.012354 -0.006109  0.012724  0.017131  0.012390  0.014931   \n",
       "2006-03-31  0.043584  0.029708  0.034453  0.012203  0.013299  0.005424   \n",
       "2006-05-31 -0.026365 -0.024219  0.001555 -0.015647 -0.030534 -0.027217   \n",
       "2006-06-30 -0.029358  0.006137 -0.002789  0.002618  0.004338  0.002428   \n",
       "2006-07-31 -0.058296 -0.036734  0.022658 -0.005353  0.024988  0.010822   \n",
       "\n",
       "               m6_me     m7_me     m8_me     m9_me  ...    m6_vol    m7_vol  \\\n",
       "2006-02-28  0.008770  0.008683 -0.003999 -0.051872  ...  0.016308  0.012868   \n",
       "2006-03-31  0.014716  0.026616  0.032930  0.054823  ...  0.023306  0.102972   \n",
       "2006-05-31 -0.032916 -0.031146 -0.046612 -0.080706  ... -0.058780 -0.056930   \n",
       "2006-06-30  0.011803  0.001877  0.023077 -0.005062  ... -0.019315 -0.004445   \n",
       "2006-07-31  0.005927 -0.008269 -0.022406 -0.046551  ... -0.008441 -0.033398   \n",
       "\n",
       "              m8_vol    m9_vol  Mkt-RF     SMB     HML     RMW     CMA     Mom  \n",
       "2006-02-28 -0.016740 -0.064788 -0.0030 -0.0042 -0.0034 -0.0051  0.0191 -0.0184  \n",
       "2006-03-31  0.149737  0.069339  0.0146  0.0338  0.0060  0.0006 -0.0041  0.0126  \n",
       "2006-05-31 -0.079337 -0.107404 -0.0357 -0.0285  0.0241  0.0115  0.0146 -0.0370  \n",
       "2006-06-30  0.013017 -0.067229 -0.0035 -0.0024  0.0085  0.0132 -0.0007  0.0154  \n",
       "2006-07-31 -0.040144 -0.102966 -0.0078 -0.0363  0.0260  0.0163  0.0090 -0.0212  \n",
       "\n",
       "[5 rows x 26 columns]"
      ]
     },
     "execution_count": 74,
     "metadata": {},
     "output_type": "execute_result"
    }
   ],
   "source": [
    "portfolios=momportfolios.merge(Factors,left_index=True,right_index=True)\n",
    "portfolios.head()"
   ]
  },
  {
   "cell_type": "code",
   "execution_count": 77,
   "metadata": {
    "colab": {},
    "colab_type": "code",
    "id": "jSm7QHuIjO5E",
    "outputId": "97810023-d2be-4cf1-d094-af93af6cce88"
   },
   "outputs": [
    {
     "data": {
      "text/html": [
       "<table class=\"simpletable\">\n",
       "<caption>OLS Regression Results</caption>\n",
       "<tr>\n",
       "  <th>Dep. Variable:</th>            <td>y</td>        <th>  R-squared:         </th> <td>   0.645</td>\n",
       "</tr>\n",
       "<tr>\n",
       "  <th>Model:</th>                   <td>OLS</td>       <th>  Adj. R-squared:    </th> <td>   0.643</td>\n",
       "</tr>\n",
       "<tr>\n",
       "  <th>Method:</th>             <td>Least Squares</td>  <th>  F-statistic:       </th> <td>   227.5</td>\n",
       "</tr>\n",
       "<tr>\n",
       "  <th>Date:</th>             <td>Wed, 01 May 2024</td> <th>  Prob (F-statistic):</th> <td>6.34e-30</td>\n",
       "</tr>\n",
       "<tr>\n",
       "  <th>Time:</th>                 <td>17:46:46</td>     <th>  Log-Likelihood:    </th> <td>  150.75</td>\n",
       "</tr>\n",
       "<tr>\n",
       "  <th>No. Observations:</th>      <td>   127</td>      <th>  AIC:               </th> <td>  -297.5</td>\n",
       "</tr>\n",
       "<tr>\n",
       "  <th>Df Residuals:</th>          <td>   125</td>      <th>  BIC:               </th> <td>  -291.8</td>\n",
       "</tr>\n",
       "<tr>\n",
       "  <th>Df Model:</th>              <td>     1</td>      <th>                     </th>     <td> </td>   \n",
       "</tr>\n",
       "<tr>\n",
       "  <th>Covariance Type:</th>      <td>nonrobust</td>    <th>                     </th>     <td> </td>   \n",
       "</tr>\n",
       "</table>\n",
       "<table class=\"simpletable\">\n",
       "<tr>\n",
       "    <td></td>       <th>coef</th>     <th>std err</th>      <th>t</th>      <th>P>|t|</th>  <th>[0.025</th>    <th>0.975]</th>  \n",
       "</tr>\n",
       "<tr>\n",
       "  <th>const</th> <td>   -0.0231</td> <td>    0.007</td> <td>   -3.504</td> <td> 0.001</td> <td>   -0.036</td> <td>   -0.010</td>\n",
       "</tr>\n",
       "<tr>\n",
       "  <th>Mom</th>   <td>    1.9579</td> <td>    0.130</td> <td>   15.085</td> <td> 0.000</td> <td>    1.701</td> <td>    2.215</td>\n",
       "</tr>\n",
       "</table>\n",
       "<table class=\"simpletable\">\n",
       "<tr>\n",
       "  <th>Omnibus:</th>       <td>93.627</td> <th>  Durbin-Watson:     </th> <td>   2.091</td> \n",
       "</tr>\n",
       "<tr>\n",
       "  <th>Prob(Omnibus):</th> <td> 0.000</td> <th>  Jarque-Bera (JB):  </th> <td> 691.904</td> \n",
       "</tr>\n",
       "<tr>\n",
       "  <th>Skew:</th>          <td>-2.555</td> <th>  Prob(JB):          </th> <td>5.69e-151</td>\n",
       "</tr>\n",
       "<tr>\n",
       "  <th>Kurtosis:</th>      <td>13.229</td> <th>  Cond. No.          </th> <td>    19.7</td> \n",
       "</tr>\n",
       "</table><br/><br/>Notes:<br/>[1] Standard Errors assume that the covariance matrix of the errors is correctly specified."
      ],
      "text/plain": [
       "<class 'statsmodels.iolib.summary.Summary'>\n",
       "\"\"\"\n",
       "                            OLS Regression Results                            \n",
       "==============================================================================\n",
       "Dep. Variable:                      y   R-squared:                       0.645\n",
       "Model:                            OLS   Adj. R-squared:                  0.643\n",
       "Method:                 Least Squares   F-statistic:                     227.5\n",
       "Date:                Wed, 01 May 2024   Prob (F-statistic):           6.34e-30\n",
       "Time:                        17:46:46   Log-Likelihood:                 150.75\n",
       "No. Observations:                 127   AIC:                            -297.5\n",
       "Df Residuals:                     125   BIC:                            -291.8\n",
       "Df Model:                           1                                         \n",
       "Covariance Type:            nonrobust                                         \n",
       "==============================================================================\n",
       "                 coef    std err          t      P>|t|      [0.025      0.975]\n",
       "------------------------------------------------------------------------------\n",
       "const         -0.0231      0.007     -3.504      0.001      -0.036      -0.010\n",
       "Mom            1.9579      0.130     15.085      0.000       1.701       2.215\n",
       "==============================================================================\n",
       "Omnibus:                       93.627   Durbin-Watson:                   2.091\n",
       "Prob(Omnibus):                  0.000   Jarque-Bera (JB):              691.904\n",
       "Skew:                          -2.555   Prob(JB):                    5.69e-151\n",
       "Kurtosis:                      13.229   Cond. No.                         19.7\n",
       "==============================================================================\n",
       "\n",
       "Notes:\n",
       "[1] Standard Errors assume that the covariance matrix of the errors is correctly specified.\n",
       "\"\"\""
      ]
     },
     "execution_count": 77,
     "metadata": {},
     "output_type": "execute_result"
    }
   ],
   "source": [
    "# things to look at:\n",
    "\n",
    "#y=portfolios['m9_me']\n",
    "#y=momportfolios['m9_vol']\n",
    "#y=momportfolios['m9_me']-momportfolios['m0_me']\n",
    "\n",
    "\n",
    "y=portfolios['m9_me']-portfolios['m0_me']\n",
    "x=portfolios['Mom']\n",
    "x=sm.add_constant(x)\n",
    "results = sm.OLS(y,x).fit()\n",
    "results.summary()"
   ]
  },
  {
   "cell_type": "markdown",
   "id": "f5349cca",
   "metadata": {},
   "source": [
    "why such a large difference even for the strategy that follows the Momentum strategy?"
   ]
  },
  {
   "cell_type": "markdown",
   "id": "3abbc01d",
   "metadata": {},
   "source": []
  },
  {
   "cell_type": "markdown",
   "id": "27a612de",
   "metadata": {},
   "source": [
    "# ✅ Key Takeaways\n",
    "\n",
    "- Trading costs compound and can meaningfully reduce (or eliminate) apparent alpha.\n",
    "- **Turnover** is a primary driver of costs; the same signal with lower turnover usually wins after frictions.\n",
    "- **Implementation shortfall** is the most comprehensive way to capture all costs between decision and execution.\n",
    "- Always present **pre‑ and post‑cost** metrics in notebooks, and stress‑test costs to check robustness.\n",
    "- Prefer simple, transparent, **vectorized** implementations for reproducibility and speed."
   ]
  }
 ],
 "metadata": {
  "colab": {
   "collapsed_sections": [],
   "machine_shape": "hm",
   "name": "Notebook 7.ipynb",
   "provenance": [],
   "toc_visible": true
  },
  "kernelspec": {
   "display_name": "Python 3",
   "language": "python",
   "name": "python3"
  },
  "language_info": {
   "codemirror_mode": {
    "name": "ipython",
    "version": 3
   },
   "file_extension": ".py",
   "mimetype": "text/x-python",
   "name": "python",
   "nbconvert_exporter": "python",
   "pygments_lexer": "ipython3",
   "version": "3.9.12"
  }
 },
 "nbformat": 4,
 "nbformat_minor": 4
}
