{
 "cells": [
  {
   "cell_type": "markdown",
   "metadata": {
    "id": "WI820A_Bp_NH"
   },
   "source": [
    "# Assignment 3\n",
    "\n",
    "\n",
    "\n",
    "Please check that you are submitting the correct file. One way to avoid mistakes is to save it with a different name.\n",
    "\n",
    "\n",
    "\n",
    "Comments:\n",
    "\n",
    "- Make sure that everything is compiled before saving it.\n",
    "- Obviously feel free to add as many cells as needed in each section.\n",
    "- Cells should not be too large. Keep code organized and clean."
   ]
  },
  {
   "cell_type": "markdown",
   "metadata": {},
   "source": [
    "# Write your name and simon email\n",
    "\n",
    "Please write names below\n",
    "\n",
    "* [Name]:\n",
    "* [email]:\n",
    "\n",
    "\n"
   ]
  },
  {
   "cell_type": "markdown",
   "metadata": {
    "id": "ekyShyt91xTn"
   },
   "source": [
    "# Exercises \n",
    "\n"
   ]
  },
  {
   "cell_type": "markdown",
   "metadata": {},
   "source": [
    "**Exercise 1**\n",
    "\n",
    "Lets start by importing our data.\n",
    "\n",
    "We will import monthly data on the five factor model.\n",
    "\n",
    "You should go to Ken French website and figure out the name of the data set.\n",
    "\n",
    "An alternative way is to use\n",
    "\n",
    "`from pandas_datareader.famafrench import get_available_datasets`\n",
    "\n",
    "And call get_available_datasets to see the name of the different data set available\n",
    "\n",
    "TIP: The data set should have 7 columns: Date, factors and the risk-free rate\n",
    "\n",
    "Also note that there is a lot of stuff on a given file, i.e., `ds` below will contain multiple datasets associated with this dataset you choose\n",
    "\n",
    "you have to choose the right one--the one that contains monthly return data!\n",
    "\n",
    "Finally make sure the index is in the datetime format\n",
    "\n",
    "Here is the code to get you started!\n",
    "\n",
    "```\n",
    "import ___ as pd\n",
    "\n",
    "import pandas_datareader.data as web\n",
    "from datetime import datetime\n",
    "\n",
    "\n",
    "import ___ as pd\n",
    "\n",
    "\n",
    "start = datetime(1963, 1, 1)\n",
    "end = datetime(2024, 9, 1)\n",
    "\n",
    "\n",
    "ds = web.DataReader(__________,'famafrench', start, end)\n",
    "df=ds[_]\n",
    "df.____ = pd.to_datetime(df.____.to_timestamp())\n"
   ]
  },
  {
   "cell_type": "code",
   "execution_count": null,
   "metadata": {},
   "outputs": [],
   "source": [
    "\n"
   ]
  },
  {
   "cell_type": "markdown",
   "metadata": {},
   "source": [
    "**Exercise 2**\n",
    "\n",
    "What are the units of the data?  In you invested 100 dollars in the start of the sample in the market portfolio. How much money would you have at the end of 2023 (recall that the market portfolio is not a factor, but can be created by combining it with the risk-free rate )"
   ]
  },
  {
   "cell_type": "code",
   "execution_count": null,
   "metadata": {},
   "outputs": [],
   "source": []
  },
  {
   "cell_type": "markdown",
   "metadata": {},
   "source": [
    "**Exercise 3**\n",
    "\n",
    "I would like you to build on the portfolio construction we did on the Trading Strategies lecture\n",
    "\n",
    "Let's start by computing the mean-variance optimal portfolio across these five factors\n",
    "\n",
    "I would like you start by using the full sample to estimate the weights and then leverage up the weights so this portfolio has the same in sample volatiltiy as the market portfolio\n",
    "\n",
    "report weights and  the Sharpe ratio of the MVE portfolio"
   ]
  },
  {
   "cell_type": "code",
   "execution_count": null,
   "metadata": {},
   "outputs": [],
   "source": []
  },
  {
   "cell_type": "markdown",
   "metadata": {},
   "source": [
    "**Exercise 4**\n",
    "\n",
    "Lets construct weights for four alternative strategies (using the full sample)\n",
    "\n",
    "1. Invest in the market portfolio in the whole sample\n",
    "2. Invest equally in each factor\n",
    "3. Risk Parity 1: Assume expected returns of each factor are of the form $E[R^i_t]=c*\\sigma(R^i_t)$ so they are exactly proportional to their standard deviation. Meaning that instead of estimating expected returns you simply use the vector of standard deviations $c[\\sigma(R^1_t),\\sigma(R^2_t),\\sigma(R^3_t),..]$. Apply the MVE formula given the estimated covariance matrix and these \"estimates\" for expected returns\n",
    "3. Risk Parity 2: Assume that the off-diagonal terms of the covariance matrix are zero. "
   ]
  },
  {
   "cell_type": "code",
   "execution_count": null,
   "metadata": {},
   "outputs": [],
   "source": []
  },
  {
   "cell_type": "markdown",
   "metadata": {},
   "source": [
    "**Exercise 5**\n",
    "\n",
    "Compute the full sample Sharpe Ratio of all five trading strategies.\n",
    "\n",
    "Discuss what we can learn and not learn from such exercise. What are the issues with interpreting the differences in performance?"
   ]
  },
  {
   "cell_type": "code",
   "execution_count": null,
   "metadata": {},
   "outputs": [],
   "source": []
  },
  {
   "cell_type": "markdown",
   "metadata": {},
   "source": [
    "**Exercise 6**\n",
    "\n",
    "Lets pursue a rolling approach to evaluate these strategies.\n",
    "\n",
    "I would like you to split the sample down the middle--how to find the middle of the sample?\n",
    "\n",
    "And then proceed by estimating in the first half, then looking at the performance in the following month.\n",
    "\n",
    "Then adding this month to the estimation sample, and so on.\n",
    "\n",
    "I provide code below that constructs this for the standard MVE strategy.\n",
    "\n",
    "I advise you to \n",
    "\n",
    "\n",
    "\n",
    "```\n",
    "import numpy as np\n",
    "Rp=pd.DataFrame([],index=[],columns=[],dtype=float)\n",
    "Re=__\n",
    "start_date=__\n",
    "for date in Re[start_date:].index:\n",
    "    # I am using DateOffset function to tell python to stop on month before \n",
    "    # so the estimation sample will be all months up to one month before the return that I \n",
    "    #I will be trading\n",
    "    # this guarantees the strategy is VALID with respect to information\n",
    "    ERe=Re[:date- pd.DateOffset(months=1)].mean()\n",
    "    CovRe=Re[:date- pd.DateOffset(months=1)].cov()\n",
    "    Target_vol=___\n",
    "\n",
    "    X=np.linalg.inv(CovRe) @ ERe* (Targetvol/(ERe @ np.linalg.inv(CovRe) @ ERe)**0.5)\n",
    "    #store the strategy returns of the relevant month\n",
    "    Rp.at[date,'MVE']=X @ Re.loc[date]"
   ]
  },
  {
   "cell_type": "code",
   "execution_count": null,
   "metadata": {},
   "outputs": [],
   "source": []
  },
  {
   "cell_type": "markdown",
   "metadata": {},
   "source": [
    "**Exercise 7**\n",
    "\n",
    "Compute their Sharpe Ratios, volatilities, and expected returns\n",
    "\n",
    "Is there a conclusion? What statistical test can you do to see if the differences in expected returns is statistically significant?\n",
    "\n",
    "Would that be enough to know that one of them is better strategy?  What source of difference of expected returns might not be so interesting for an investor"
   ]
  },
  {
   "cell_type": "code",
   "execution_count": null,
   "metadata": {},
   "outputs": [],
   "source": []
  },
  {
   "cell_type": "markdown",
   "metadata": {},
   "source": [
    "**Exercise 8**\n",
    "\n",
    "Lets take a step back and simply estimate the CAPM betas of the different factors--using 'MKT-RF' as a proxy for market.\n",
    "\n",
    "So I want you to run a time-series regression of each factor on the market portfolio.\n",
    "\n",
    "\n",
    "Report the CAPM betas of each factor.\n",
    "\n",
    "\n",
    "Do the same for the trading strategies that you constructed.\n",
    "\n",
    "\n",
    "Discuss what these findings imply for the discussion in exercise 7. How these different betas might impact your evalaution?\n",
    "\n",
    "Please find code below that estimates the regression and reports the beta\n",
    "\n",
    "```\n",
    "\n",
    "import statsmodels.api as sm\n",
    "\n",
    "# Define the dependent variable \n",
    "y = df[_]\n",
    "\n",
    "# Define the independent variable\n",
    "X = df[['Mkt-RF']]\n",
    "\n",
    "# Add a constant term to the independent variables\n",
    "X = sm.add_constant(X)\n",
    "\n",
    "# Fit the regression model\n",
    "model = sm.OLS(y, X).fit()\n",
    "\n",
    "# Print the regression results\n",
    "print(model.summary())\n",
    "\n",
    "beta=model.params[1]\n",
    "\n"
   ]
  },
  {
   "cell_type": "code",
   "execution_count": null,
   "metadata": {},
   "outputs": [],
   "source": []
  },
  {
   "cell_type": "markdown",
   "metadata": {},
   "source": [
    "**Exercise 8**\n",
    "\n",
    "Lets construct market hedged factors!\n",
    "\n",
    "Say for each factor factor, you have the returns $R^{factor}_t$ in a dataframe. You also have it's beta $\\beta$, and the returns on the market portfolio (the excess return to be precise) $R^{mkt-rf}_t$\n",
    "\n",
    "\n",
    "So you can construct the market hedged as\n",
    "\n",
    "\n",
    "$$R^{factor-market}_t=R^{factor}_t-\\beta*R^{mkt-rf}_t$$\n",
    "\n",
    "Compute this for all other four factors\n",
    "\n",
    "\n",
    "Report means, standard deviations, and also the beta with respect to the market\n",
    "\n",
    "\n",
    "\n"
   ]
  },
  {
   "cell_type": "code",
   "execution_count": null,
   "metadata": {},
   "outputs": [],
   "source": []
  },
  {
   "cell_type": "markdown",
   "metadata": {},
   "source": [
    "**Exercise 9**\n",
    "\n",
    "What is the interpretation of the mean return for the hedged portfolios? What is the interpretation of the volatility?\n",
    "\n",
    "In what sense the Sharpe ratio of the hedged factor might be a better guide then their individual Sharpe Ratios?"
   ]
  },
  {
   "cell_type": "markdown",
   "metadata": {},
   "source": []
  },
  {
   "cell_type": "markdown",
   "metadata": {},
   "source": [
    "**Exercise 10**\n",
    "\n",
    "Lets construct the correlation of residuals.\n",
    "\n",
    "you can do that by either getting the residuals of the regression you did (model.resid)\n",
    "\n",
    "Or more easily put all the hedged factors in one dataframe and compute the correlation across hedged factors\n",
    "\n",
    "When you compare with the correlation of the raw factors what do you notice? Why that happen? \n",
    "\n",
    "What the fact that it didn't go all the way to zero might tell us?\n",
    "\n"
   ]
  },
  {
   "cell_type": "code",
   "execution_count": null,
   "metadata": {},
   "outputs": [],
   "source": []
  }
 ],
 "metadata": {
  "colab": {
   "provenance": []
  },
  "kernelspec": {
   "display_name": "base",
   "language": "python",
   "name": "python3"
  },
  "language_info": {
   "codemirror_mode": {
    "name": "ipython",
    "version": 3
   },
   "file_extension": ".py",
   "mimetype": "text/x-python",
   "name": "python",
   "nbconvert_exporter": "python",
   "pygments_lexer": "ipython3",
   "version": "3.9.12"
  },
  "toc": {
   "base_numbering": 1,
   "nav_menu": {},
   "number_sections": true,
   "sideBar": true,
   "skip_h1_title": false,
   "title_cell": "Table of Contents",
   "title_sidebar": "Contents",
   "toc_cell": false,
   "toc_position": {},
   "toc_section_display": true,
   "toc_window_display": false
  },
  "toc-autonumbering": true
 },
 "nbformat": 4,
 "nbformat_minor": 4
}
