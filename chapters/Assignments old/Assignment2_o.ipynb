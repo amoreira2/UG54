{
 "cells": [
  {
   "cell_type": "markdown",
   "metadata": {
    "colab_type": "text",
    "id": "WI820A_Bp_NH"
   },
   "source": [
    "# Assignment 2\n",
    "\n"
   ]
  },
  {
   "cell_type": "markdown",
   "metadata": {
    "colab_type": "text",
    "id": "wVAN3J3Vp_NJ"
   },
   "source": [
    "# Write your name and simon email\n",
    "\n",
    "Please write names below\n",
    "\n",
    "* [Name]:\n",
    "* [email]:\n",
    "\n",
    "\n"
   ]
  },
  {
   "cell_type": "markdown",
   "metadata": {},
   "source": [
    "# Exercises \n",
    "\n",
    "\n",
    "\n"
   ]
  },
  {
   "cell_type": "markdown",
   "metadata": {},
   "source": [
    "\n",
    "\n",
    "We will start by redoing the dataset construction of Assignment 1. ( Feel free to use your previous code!)\n",
    "\n",
    "Start by importing pandas, numpy, maplotlib, and loading the data set. \n",
    "\n",
    "The dataset has address \n",
    "\n",
    "`url='https://github.com/amoreira2/Fin418/blob/main/assets/data/Assignment1.xlsx?raw=true'`\n",
    "\n",
    "I strongly recommend you download first and look at the data set.\n",
    "\n",
    "This file contains multiple sheets, you should use `read_excel` to get the data that contains the 49 value-weighted industry portfolios. \n",
    "\n",
    "See here:https://pandas.pydata.org/pandas-docs/stable/reference/api/pandas.read_excel.html .\n",
    "\n",
    "Do the followings:\n",
    "\n",
    "1. Import this dataframe as `df_ind`\n",
    "    - Use \"sheet_name\" to select the desired excel sheet. \n",
    "    - Use \"skip_rows\" to skip the initial rows before the data.\n",
    "    - Figure out what is the code for missing value and change the option `na_values` appropriately\n",
    "    - If you look at the excel file you will see that there are other data sets stacked horizontally. Use the `usecols` option to select the range of columns you want imported\n",
    "    - You can take a look at Lab3 material for some examples of importing excel data and using these options.\n",
    "\n",
    "2. Change the name of the column with the date information to date\n",
    "\n",
    "3. Use `to_datetime` so python understand the column date as a datetime object (you will have to use the option format)\n",
    "\n",
    "4. Set date as index\n",
    "\n",
    "5. convert the date from the start of the month to end of the month.\n",
    "\n",
    "6. Import the risk-free rate\n",
    "\n",
    "6. Construct excess returns by subtracting the risk free rate.\n",
    "\n",
    "7 Drop any missing observations"
   ]
  },
  {
   "cell_type": "code",
   "execution_count": null,
   "metadata": {},
   "outputs": [],
   "source": [
    "# your code below\n"
   ]
  },
  {
   "cell_type": "markdown",
   "metadata": {},
   "source": [
    "**Exercise 1. Moments**\n",
    "\n",
    "We will now estimate the risk-premium in each of these portfolio and the covariance between these portfolios.\n",
    "\n",
    "Do the followings:\n",
    "\n",
    "1. using the method `mean` on the excess return data frame to obtain a vector of average excess returns which we will use as our ESTIMATE for these portfolio risk-premiums. call this vector `ERe`\n",
    "\n",
    "2. use `cov` method to estiamte the covariance of excess returns, call this `CovRe`, which we will use as our ESTIMATE for the TRUE covariance matrix between these portfolios\n",
    "\n",
    "3. Print `ERe` and `CovRe`\n",
    "\n"
   ]
  },
  {
   "cell_type": "code",
   "execution_count": null,
   "metadata": {},
   "outputs": [],
   "source": [
    "# your code below\n"
   ]
  },
  {
   "cell_type": "markdown",
   "metadata": {},
   "source": [
    "**Exercise 2. Storing the weights**\n",
    "\n",
    "\n",
    "Lets create a storage for our weights. \n",
    "\n",
    "Use the `pd.DataFrame` function to create an empty dataframe with name Weights which has as index the name of the different industries in df_ind and column names as 'W1' and 'W2'."
   ]
  },
  {
   "cell_type": "code",
   "execution_count": null,
   "metadata": {},
   "outputs": [],
   "source": [
    "# your code below\n",
    "\n",
    "Weights.head()"
   ]
  },
  {
   "cell_type": "markdown",
   "metadata": {},
   "source": [
    "**Exercise 3. Weighting scheme 1**\n",
    "\n",
    "We will now find the weights by applying the formula\n",
    "\n",
    "$$ W=E[R^e]@Var(R^e)^{-1} $$\n",
    "\n",
    "For that you need to inverse the covariance matrix `CovRe` you just estimated.\n",
    "\n",
    "You do that using the function `np.linalg.inv`.\n",
    "\n",
    "Attribute the weight vector to the column 'W1'\n",
    "\n",
    "Does these weights need to add up to 1? Why? why not? Discuss the interepretation.\n"
   ]
  },
  {
   "cell_type": "code",
   "execution_count": null,
   "metadata": {},
   "outputs": [],
   "source": [
    "# your code below\n",
    "\n",
    "Weights.head()"
   ]
  },
  {
   "cell_type": "markdown",
   "metadata": {},
   "source": [
    "**Exercise 4. Weighting scheme 2**\n",
    "\n",
    "We will now find the weights by applying the formula\n",
    "\n",
    "$$ W= \\frac{\\mathbf{1} @ Var(R^e)^{-1}}{\\mathbf{1} @ Var(R^e)^{-1} @ \\mathbf{1}'} $$\n",
    "\n",
    "where $\\mathbf{1}$ is a vector of 1 that has the length same as the number of assets.\n",
    "\n",
    "Attribute this vector to the column 'W2'"
   ]
  },
  {
   "cell_type": "code",
   "execution_count": null,
   "metadata": {
    "scrolled": true
   },
   "outputs": [],
   "source": [
    "# your code below\n",
    "\n",
    "Weights.head()"
   ]
  },
  {
   "cell_type": "markdown",
   "metadata": {},
   "source": [
    "**Exercise 5. What mathematical problems weights W1 and W2 are solutions to?**\n",
    "\n",
    "(This will not be graded. )"
   ]
  },
  {
   "cell_type": "code",
   "execution_count": null,
   "metadata": {},
   "outputs": [],
   "source": [
    "# Answer here: \n"
   ]
  },
  {
   "cell_type": "markdown",
   "metadata": {},
   "source": [
    "**Exercise 6. Strategy returns**\n",
    "\n",
    "Use weight W1 and W2 to construct the time series of the strategy returns\n",
    "\n",
    "The output should be one dataframe called `df_wR` which rows are the dates of `df_inde` and in the columns we have the names `W1` and `W2` and the values are the strategy return implied by the respective weights.\n",
    "\n"
   ]
  },
  {
   "cell_type": "code",
   "execution_count": null,
   "metadata": {},
   "outputs": [],
   "source": [
    "# your code below\n",
    "\n",
    "df_wR.head()"
   ]
  },
  {
   "cell_type": "markdown",
   "metadata": {},
   "source": [
    "**Exercise 7. Sharpe Ratios**\n",
    "\n",
    "A key measure of risk-reward is the so called Sharpe ratio. \n",
    "\n",
    "the Sharpe ratio is a ratio of the average excess return of a strategy relative to it's standard deviation.\n",
    "\n",
    "Do the followings:\n",
    "\n",
    "1. compute the Sharpe ratio for both strategies above and report them in annualized units\n",
    "2. comment on what you find. is the difference between these Sharpe ratios as expected? explain."
   ]
  },
  {
   "cell_type": "code",
   "execution_count": null,
   "metadata": {},
   "outputs": [],
   "source": [
    "# your code below\n"
   ]
  },
  {
   "cell_type": "code",
   "execution_count": 25,
   "metadata": {},
   "outputs": [],
   "source": [
    "# your comments below \n"
   ]
  },
  {
   "cell_type": "markdown",
   "metadata": {},
   "source": [
    "**Exercise 8. Normalization**\n",
    "\n",
    "While strategy 2 was solved by imposing a constraint on weights so that they add up to 1, strategy 1 does not impose any constraint on the weights as it imposes a constraint on the expected return target\n",
    "\n",
    "Imposing a constraint is a choice because we are working with excess returns, so the weights do not need to add up to 1 because these assets cost zero--i.e. each asset is a strategy that is self funded, which invests in the asset with money borrowed at the risk-free rate.\n",
    "\n",
    "This is all fine and good, but it means that leverage that comes out of the weights $W1=E[E^e]@Var(R^e)^{-1} $ is not determinate. Any set of weights proportional to W1 will achieve the same Sharpe Ratio. \n",
    "\n",
    "In the exercise below we will trace the entire frontier by changing this proportionality constant.\n",
    "\n",
    "Do the followings:\n",
    "\n",
    "1. transform the weights W1 by multiplying it by a constant (your job is to figure out what this constant must be) so that the new strategy associated with these new weights (call it W3) have the same in sample volatility as the strategy associated with W2.\n",
    "\n",
    "2. record this new strategy in `df_wR`.\n",
    "\n",
    "3. plot the cumulative returns (as seen for example in Chapter 7) of strategies W2 and W3. Note that stock returns from the data are in percentages, so you may need to rescale the portfolio returns to the unit of 1 when you compute the cumulative returns. \n",
    "\n",
    "4. given what you know about their Sharpe Ratios, are the results surprising? explain\n",
    "\n",
    "**_Hint:_**\n",
    "$$ K =\\sigma(R^e_{p2}) = c\\cdot \\sigma( R^e_{p1}) = \\sigma(c\\cdot R^e_{p1}) = \\sigma( R^e_{p3})   $$\n",
    "\n",
    "$$ c = \\sigma(R^e_{p2}) / \\sigma( R^e_{p1})  $$\n",
    "\n",
    "$$  R^e_{p3} = c\\cdot R^e_{p1} = (\\sigma(R^e_{p2}) / \\sigma( R^e_{p1})) \\cdot R^e_{p1}   $$"
   ]
  },
  {
   "cell_type": "code",
   "execution_count": null,
   "metadata": {},
   "outputs": [],
   "source": [
    "# your code below\n"
   ]
  },
  {
   "cell_type": "code",
   "execution_count": 29,
   "metadata": {},
   "outputs": [],
   "source": [
    "# your explanation below\n"
   ]
  },
  {
   "cell_type": "markdown",
   "metadata": {},
   "source": [
    "**Exercise 8. The Efficient Frontier 1**\n",
    "\n",
    "We will now construct the investment frontier using portfolio strategy `W1`. \n",
    "\n",
    "The key idea is that any portolio that is in the frontier must have returns of the form \n",
    "\n",
    "$$\n",
    "\\begin{align} \n",
    "r^{frontier} &= w \\cdot r^f+(1-w)(W1 @ R) \\\\\n",
    "&= r^f+(1-w)(W1 @ (R-rf)) \\\\\n",
    "&= r^f+w (W1 @ R^{e})\n",
    "\\end{align}\n",
    "$$\n",
    "\n",
    "In terms of weights, the frontier is of the form $[1,w*W1]$ that is, a weight 1 on the risk-free rate plus a weight $w*W1$ on the long-short portfolios $R^e$, where $w$ is any scalar greater than 0 and $W1$ is the weight that solves the problem you described in question 10.\n",
    "\n",
    "This means that we can write any portfolio in the efficient frontier as:\n",
    "\n",
    "$$E[R^{frontier}]=r^f+w W1 E[R^e]$$\n",
    "\n",
    "\n",
    "$$STD[R^{frontier}]=STD[r^f+wW1 R^{e}]=wSTD[W1 R^{e}]$$\n",
    "\n",
    "Thus to trace-out the frontier you will need the mean and the volatility of the portfolio constructed with weights `W1`\n",
    "\n",
    "Do the followings to plot the frontier:\n",
    "\n",
    "1. plot the mean-standard deviation efficient frontier by varying the weight $w$ in the expression above from zero to some positive value $\\bar{w}$\n",
    "\n",
    "2. pick $\\bar{w}$ consistent with an **annual** volatility equal to 20%, so that it traces out the frontier up to the point that you have a volatility of 20%. \n",
    "\n",
    "3. the plot should have $wSTD[W1 R^{e}]$ in the x-axis and $r^f+w W1 E[R^e]$ in the y-axis. \n",
    "\n",
    "4. both mean and standard deviation should be annualized.\n",
    "\n",
    "**_Hint:_**\n",
    "find the upper bound of $w$ and then use `np.linspace` to create a array of $w$.\n",
    "\n"
   ]
  },
  {
   "cell_type": "code",
   "execution_count": null,
   "metadata": {},
   "outputs": [],
   "source": [
    "# your code below\n"
   ]
  },
  {
   "cell_type": "markdown",
   "metadata": {},
   "source": [
    "**Exercise 9. Risk free rates?**\n",
    "\n",
    "Which risk-free rate should you use in the question above? The historical average? The current one? What do you think?\n",
    "\n",
    "\n"
   ]
  },
  {
   "cell_type": "code",
   "execution_count": 31,
   "metadata": {},
   "outputs": [],
   "source": [
    "# Answer here: \n"
   ]
  },
  {
   "cell_type": "markdown",
   "metadata": {},
   "source": [
    "**Exercise 10. The Efficient frontier 2**\n",
    "\n",
    "For contrast, plot the means and standard deviations of the individual industry portfolio in the same plot above. So these will be additional 49 points in the same plot.\n",
    "\n",
    "What do you notice about the efficient frontier? Why that makes sense?\n",
    "\n",
    "**_Hint:_** you might find `plt.scatter` useful."
   ]
  },
  {
   "cell_type": "code",
   "execution_count": null,
   "metadata": {},
   "outputs": [],
   "source": [
    "# your code below\n"
   ]
  }
 ],
 "metadata": {
  "colab": {
   "collapsed_sections": [],
   "name": "Homework_2019_1.ipynb",
   "provenance": []
  },
  "kernelspec": {
   "display_name": "Python 3 (ipykernel)",
   "language": "python",
   "name": "python3"
  },
  "language_info": {
   "codemirror_mode": {
    "name": "ipython",
    "version": 3
   },
   "file_extension": ".py",
   "mimetype": "text/x-python",
   "name": "python",
   "nbconvert_exporter": "python",
   "pygments_lexer": "ipython3",
   "version": "3.9.12"
  },
  "toc": {
   "base_numbering": 1,
   "nav_menu": {},
   "number_sections": true,
   "sideBar": true,
   "skip_h1_title": false,
   "title_cell": "Table of Contents",
   "title_sidebar": "Contents",
   "toc_cell": false,
   "toc_position": {},
   "toc_section_display": true,
   "toc_window_display": true
  },
  "toc-autonumbering": true
 },
 "nbformat": 4,
 "nbformat_minor": 4
}
