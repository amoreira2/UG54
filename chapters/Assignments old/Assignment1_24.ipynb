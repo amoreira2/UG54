{
 "cells": [
  {
   "cell_type": "markdown",
   "metadata": {
    "colab_type": "text",
    "id": "WI820A_Bp_NH"
   },
   "source": [
    "# Assignment 1 \n",
    "\n"
   ]
  },
  {
   "cell_type": "markdown",
   "metadata": {
    "colab_type": "text",
    "id": "wVAN3J3Vp_NJ"
   },
   "source": [
    "# Write your name and simon email\n",
    "\n",
    "Please write names below\n",
    "\n",
    "* [Name]:\n",
    "* [email]:\n",
    "\n",
    "\n"
   ]
  },
  {
   "cell_type": "markdown",
   "metadata": {},
   "source": [
    "# Exercises \n",
    "\n",
    "\n",
    "\n"
   ]
  },
  {
   "cell_type": "markdown",
   "metadata": {},
   "source": [
    "**Exercise 1**\n",
    "\n",
    "Start by importing pandas, numpy, maplotlib, and loading the data set. \n",
    "\n",
    "The dataset has address \n",
    "\n",
    "`url='https://github.com/amoreira2/Fin418/blob/main/assets/data/Assignment1.xlsx?raw=true'`\n",
    "\n",
    "I strongly recommend you download first and look at the data set.\n",
    "\n",
    "This file contains multiple sheets, you should use `read_excel` to get the data that contains the 49 value-weighted industry portfolios. \n",
    "\n",
    "See here:https://pandas.pydata.org/pandas-docs/stable/reference/api/pandas.read_excel.html .\n",
    "\n",
    "Do the followings:\n",
    "\n",
    "1. Import this dataframe as `df_ind`\n",
    "    - Use \"sheet_name\" to select the desired excel sheet. \n",
    "    - Use \"skip_rows\" to skip the initial rows before the data.\n",
    "    - Figure out what is the code for missing value and change the option `na_values` appropriately\n",
    "    - If you look at the excel file you will see that there are other data sets stacked horizontally. Use the `usecols` option to select the range of columns you want imported\n",
    "    - You can take a look at Lab3 material for some examples of importing excel data and using these options.\n",
    "\n",
    "2. Change the name of the column with the date information to date\n",
    "\n",
    "3. Use `to_datetime` so python understand the column date as a datetime object (you will have to use the option format)\n",
    "\n",
    "4. Set date as index\n",
    "\n",
    "5. Call `df_ind.info()` so you check all the tasks were accomplished.\n",
    "\n",
    "6. In the next cell, call `df_ind.head()`"
   ]
  },
  {
   "cell_type": "code",
   "execution_count": null,
   "metadata": {},
   "outputs": [],
   "source": [
    "import numpy as np\n",
    "import pandas as pd\n",
    "import matplotlib.pyplot as plt \n",
    "from pandas.tseries.offsets import MonthEnd\n",
    "\n",
    "# your code below\n"
   ]
  },
  {
   "cell_type": "markdown",
   "metadata": {},
   "source": [
    "**Exercise 2. Advanced date manipulation**\n",
    "\n",
    "1. convert the date from the start of the month to end of the month.\n",
    "\n",
    "2. call `df_ind.head()` and verify it works\n",
    "\n",
    "**_Hint:_**\n",
    "\n",
    "* Read this link: https://stackoverflow.com/questions/37354105/find-the-end-of-the-month-of-a-pandas-dataframe-series.\n",
    "If you google \"pandas end of month\" that is the first thing that comes out. Read the answer and apply to your problem.\n",
    "\n",
    "* you aready set date as index, so you cannot do stuff like `df_ind.date` or `df_ind['date']`  and have to adjust the code accordingly. Think about how to access the index.\n"
   ]
  },
  {
   "cell_type": "code",
   "execution_count": null,
   "metadata": {},
   "outputs": [],
   "source": [
    "# your code below\n",
    "\n",
    "df_ind.head()"
   ]
  },
  {
   "cell_type": "markdown",
   "metadata": {},
   "source": [
    "**Exercise 3. Importing risk-free rate**\n",
    "\n",
    "1. In this same file there is another sheet with market returns and the risk-free rate. Import them as `df_rmrf` by following all the steps you did in the above two questions\n",
    "\n",
    "2. Call `df_rmrf.info()` so you check all the tasks were accomplished.\n",
    "\n",
    "3. In the next cell, call `df_rmrf.head()`"
   ]
  },
  {
   "cell_type": "code",
   "execution_count": null,
   "metadata": {},
   "outputs": [],
   "source": [
    "# your code below\n"
   ]
  },
  {
   "cell_type": "markdown",
   "metadata": {},
   "source": [
    "**Exercise 4. Constructing excess returns A**\n",
    "\n",
    "1. for the industry `Agric`, construct the excess return by subtracting the risk-free rate RF from it.\n",
    "\n",
    "2. compute the mean of this excess return. \n",
    "\n",
    "3. print it along with the mean of the raw returns and the risk free rate to compare"
   ]
  },
  {
   "cell_type": "code",
   "execution_count": null,
   "metadata": {},
   "outputs": [],
   "source": [
    "# your code below\n"
   ]
  },
  {
   "cell_type": "markdown",
   "metadata": {},
   "source": [
    "**Exercise 5. Constructing excess returns B**\n",
    "\n",
    "1. construct excess returns for all portfolio by subtracting the risk-free rate from all of columns at the same time\n",
    "2. name the new data frame `df_inde` ( for excess returns)\n",
    "\n",
    "**_Hint:_**\n",
    "* You can do that using the method `.subtract()` with the option axis to tell along which dimension\n",
    "\n",
    "* Go ahead , google \"pandas subtract\" to see how this works"
   ]
  },
  {
   "cell_type": "code",
   "execution_count": null,
   "metadata": {},
   "outputs": [],
   "source": [
    "# your code below \n",
    "\n",
    "df_inde.head()"
   ]
  },
  {
   "cell_type": "markdown",
   "metadata": {},
   "source": [
    "**Exercise 6. Drop missing observations**\n",
    "\n",
    "You may notice that excess returns of some industries are not available at the beginning of the sample. \n",
    "\n",
    "If we want all the industries to have same period of data in `df_inde`, we need to drop some observations.\n",
    "\n",
    "Do the followings:\n",
    "\n",
    "1. Use method `dropna` to drop rows in `df_inde` if **ANY** industry is missing. \n",
    "\n",
    "2. After that, `print(df_inde.shape)` to see the changes in the length. \n",
    "\n",
    "**_Hint_**\n",
    "* when you call `dropna` function, use `axis` and `how` option to drop missing values if **ANY** industry is missing"
   ]
  },
  {
   "cell_type": "code",
   "execution_count": null,
   "metadata": {},
   "outputs": [],
   "source": [
    "# your code below\n"
   ]
  },
  {
   "cell_type": "markdown",
   "metadata": {},
   "source": [
    "**Exercise 7. Moments**\n",
    "\n",
    "We will now estimate the risk-premium in each of these portfolio and the covariance between these portfolios.\n",
    "\n",
    "Do the followings:\n",
    "\n",
    "1. using the method `mean` on the excess return data frame to obtain a vector of average excess returns.\n",
    "\n",
    "2. Using `std` construct an estimator for each asset standard deviation.\n",
    "\n",
    "2. use `cov` method to estimate the covariance of excess returns.\n",
    "\n",
    "3. Discuss in each units these variables are\n",
    "\n"
   ]
  },
  {
   "cell_type": "code",
   "execution_count": null,
   "metadata": {},
   "outputs": [],
   "source": [
    "# your code below\n"
   ]
  },
  {
   "cell_type": "code",
   "execution_count": null,
   "metadata": {},
   "outputs": [],
   "source": [
    "ERe.head()"
   ]
  },
  {
   "cell_type": "code",
   "execution_count": null,
   "metadata": {},
   "outputs": [],
   "source": [
    "CovRe.head()"
   ]
  },
  {
   "cell_type": "markdown",
   "metadata": {},
   "source": [
    "**Exercise 8. Plotting**\n",
    "\n",
    "\n",
    "Choose a couple of industry portfolios to plot their time-series.\n",
    "\n",
    "Use the behavior of these two assets to discuss an important economic event in US history\n",
    "\n",
    "as you discuss make sure to use the magnitudes in your discussion to show that you do understand what this data means\n",
    "\n"
   ]
  },
  {
   "cell_type": "code",
   "execution_count": null,
   "metadata": {},
   "outputs": [],
   "source": [
    "# your code below\n"
   ]
  },
  {
   "cell_type": "markdown",
   "metadata": {},
   "source": [
    "**Exercise 9. Cumulative returns**\n",
    "\n",
    "\n",
    "Choose two industry portfolios to plot the cumulative returns over time.\n",
    "\n",
    "You cna plot for the whole period or just a subperiod. \n",
    "\n",
    "You should explain what the numbers mean in terms of how much money people would have if they had invested in these assets"
   ]
  },
  {
   "cell_type": "code",
   "execution_count": null,
   "metadata": {},
   "outputs": [],
   "source": []
  },
  {
   "cell_type": "code",
   "execution_count": null,
   "metadata": {},
   "outputs": [],
   "source": []
  }
 ],
 "metadata": {
  "colab": {
   "collapsed_sections": [],
   "name": "Homework_2019_1.ipynb",
   "provenance": []
  },
  "kernelspec": {
   "display_name": "Python 3 (ipykernel)",
   "language": "python",
   "name": "python3"
  },
  "language_info": {
   "codemirror_mode": {
    "name": "ipython",
    "version": 3
   },
   "file_extension": ".py",
   "mimetype": "text/x-python",
   "name": "python",
   "nbconvert_exporter": "python",
   "pygments_lexer": "ipython3",
   "version": "3.9.12"
  },
  "toc": {
   "base_numbering": 1,
   "nav_menu": {},
   "number_sections": true,
   "sideBar": true,
   "skip_h1_title": false,
   "title_cell": "Table of Contents",
   "title_sidebar": "Contents",
   "toc_cell": false,
   "toc_position": {},
   "toc_section_display": true,
   "toc_window_display": true
  },
  "toc-autonumbering": true
 },
 "nbformat": 4,
 "nbformat_minor": 4
}
