{
  "cells": [
    {
      "cell_type": "markdown",
      "metadata": {},
      "source": [
        "# Assignment 4\n",
        "\n",
        "\n",
        "\n",
        "# Write your name and simon email\n",
        "\n",
        "Please write names below\n",
        "\n",
        "1. [Name, student ID, email]:\n",
        "2. [Name, student ID, email]:\n",
        "2. [Name, student ID, email]:\n",
        "\n"
      ]
    },
    {
      "cell_type": "markdown",
      "metadata": {
        "id": "ekyShyt91xTn"
      },
      "source": [
        "\n",
        "\n",
        "\n",
        "In this assignment we will explore different portfolio allocation rules. We apply these approaches to \"alpha\" type strategies or to combine different systemtic factors. We will use there the 5 factor model as a laboratory to think about these allocation rules.\n",
        "\n",
        "The five factor model includes 5 excess return portfolios\n",
        "\n",
        "- Market minus risk-free rate\n",
        "- Small minus big (go long small caps, short large caps)\n",
        "- High minus Low (go long High Book-to-market stonks and short low Book to market stonks--also called value minus growth)\n",
        "- Robust minus Weak ( go long high profitability firms short low profitability firms)\n",
        "- Conservative minus aggressive Investment ( go long low investment firms short high investment firms)\n",
        "\n",
        "# Exercises "
      ]
    },
    {
      "cell_type": "markdown",
      "metadata": {},
      "source": [
        "**Exercise 1**\n",
        "\n",
        "Let's start by importing our data.\n",
        "\n",
        "We will import monthly data on the five factor model.\n",
        "\n",
        "You should go to Ken French website and figure out the name of the data set.\n",
        "\n",
        "An alternative way is to use\n",
        "\n",
        "`from pandas_datareader.famafrench import get_available_datasets` (you need to !pip install pandas-datareader first!)\n",
        "\n",
        "And call get_available_datasets to see the name of the different data set available (hint: try `datasets = get_available_datasets()` to get different data set names)\n",
        "\n",
        "TIP: When you complete and run the code below, the data set should have 7 columns: Date, factors and the risk-free rate.\n",
        "\n",
        "Also note that there is a lot of stuff on a given file, i.e., `ds` below will contain multiple datasets associated with this dataset you choose. (Hint: check the data type of `ds`).\n",
        "\n",
        "You have to choose the right one--the one that contains monthly return data!\n",
        "\n",
        "Note that the data is percent, so a 5% return shows us as 5 and not 0.05. While we will not cumulate returns here, it is important to keep this in mind.\n",
        "\n",
        "Finally make sure the index is in the datetime format\n",
        "\n",
        "Here is the code to get you started! \n",
        "\n",
        "What would you replace `_` with in `web.DataReader(_, 'famafrench')`? Recall what we had in `datasets`.\n",
        "\n",
        "```\n",
        "import ___ as pd\n",
        "\n",
        "import pandas_datareader.data as web\n",
        "ds = web.DataReader(_, 'famafrench')\n",
        "df=ds[_]\n",
        "df.____ = pd.to_datetime(df.____.to_timestamp())\n",
        "\n",
        "\n"
      ]
    },
    {
      "cell_type": "code",
      "execution_count": null,
      "metadata": {},
      "outputs": [],
      "source": []
    },
    {
      "cell_type": "markdown",
      "metadata": {},
      "source": [
        "**Exercise 2**\n",
        "\n",
        "Let's start by computing the mean-variance efficient portfolio across these five factors.\n",
        "\n",
        "I would like you start by using the full sample to estimate the weights and the leverage up the weights so this portfolio has the same in sample volatility as the market portfolio.\n",
        "\n",
        "Report weights and  the Sharpe ratio of the MVE portfolio.\n",
        "\n",
        "Hint: take a look at your Assignment 3."
      ]
    },
    {
      "cell_type": "code",
      "execution_count": null,
      "metadata": {},
      "outputs": [],
      "source": []
    },
    {
      "cell_type": "markdown",
      "metadata": {},
      "source": [
        "**Exercise 4**\n",
        "\n",
        "\n",
        "Now lets do the same thing for four additional portfolio allocation rules\n",
        "\n",
        "\n",
        "1. Use an Equal weight approach to invest across these factors.\n",
        "2. Risk Parity 1: Assume expected returns of each factor are of the form $E[R^i_t]=c*\\sigma(R^i_t)$ so they are exactly proportional to their standard deviation. Meaning that instead of estimating expected excess returns you simply use the vector of standard deviations $c[\\sigma(R^1_t),\\sigma(R^2_t),\\sigma(R^3_t),..]$. Apply the MVE formula given the estimated covariance matrix and these \"estimates\" for expected returns\n",
        "3. Risk Parity 2: Also Assume that all factors have zero correlation with each other \n",
        "4. Minimum-Variance investing: Assume expected excess return are the same across assets, for example $E[R^i_t]=1$\n",
        "\n"
      ]
    },
    {
      "cell_type": "code",
      "execution_count": null,
      "metadata": {},
      "outputs": [],
      "source": []
    },
    {
      "cell_type": "markdown",
      "metadata": {},
      "source": [
        "**Exercise 5**\n",
        "\n",
        "We now should have 5 strategies (MVE plus the 4 above). Compute the full sample Sharpe Ratio of all five trading strategies. Also compute the one of the market portfolio as a comparison.\n",
        "\n",
        "Discuss what we can learn and not learn from such exercise. What are the issues with interpreting the differences in the full sample performance?"
      ]
    },
    {
      "cell_type": "code",
      "execution_count": null,
      "metadata": {},
      "outputs": [],
      "source": [
        "# your code here"
      ]
    },
    {
      "cell_type": "markdown",
      "metadata": {},
      "source": [
        "Your discussion here."
      ]
    },
    {
      "cell_type": "markdown",
      "metadata": {},
      "source": [
        "**Exercise 6**\n",
        "\n",
        "Lets pursue a rolling approach to evaluate these strategies.\n",
        "\n",
        "I would like you to split the sample down the middle--how to find the middle of the sample?\n",
        "\n",
        "And then proceed by estimating in the first half, then looking at the performance in the following month.\n",
        "\n",
        "Then adding this month to the estimation sample, and so on.\n",
        "\n",
        "I provide code below that constructs this for the standard MVE strategy.\n",
        "\n",
        "I advise you to \n",
        "\n",
        "\n",
        "\n",
        "```\n",
        "import numpy as np\n",
        "Rp=pd.DataFrame([],index=[],columns=[],dtype=float) # Create an empty dataframe\n",
        "Re=__ # Dataframe that holds monthly returns for factors\n",
        "start_date=__ # Compute the start date of performance evaluation\n",
        "for date in Re[start_date:].index:\n",
        "    # I am using DateOffset function to tell python to stop one month before \n",
        "    # so the estimation sample will be all months up to one month before the return that I \n",
        "    # I will be trading\n",
        "    # this guarantees the strategy is VALID with respect to information\n",
        "    ERe=Re[:date- pd.DateOffset(months=1)].mean()\n",
        "    CovRe=Re[:date- pd.DateOffset(months=1)].cov()\n",
        "    Target_vol=___ # target volatiility so that it matches market portfolio volatility as in Exercise 3\n",
        "\n",
        "    X=np.linalg.inv(CovRe) @ ERe* (Targetvol/(ERe @ np.linalg.inv(CovRe) @ ERe)**0.5) # Can you see why we are doing this?\n",
        "    #store the strategy returns of the relevant month\n",
        "    Rp.at[date,'MVE']=X @ Re.loc[date]\n",
        "```\n",
        "\n",
        "The above is the code for MVE strategy. You should write similar codes for the rest of the four strategies in Exercise 4."
      ]
    },
    {
      "cell_type": "code",
      "execution_count": null,
      "metadata": {},
      "outputs": [],
      "source": []
    },
    {
      "cell_type": "markdown",
      "metadata": {},
      "source": [
        "**Exercise 7**\n",
        "\n",
        "Compute their Sharpe Ratios, volatilities, and expected returns\n",
        "\n",
        "Is there a conclusion? What statistical test can you to see if the differences in expected returns is statistically significant?\n",
        "\n",
        "Would that be enough to know that one of them is better strategy?  What source of difference of expected returns might not be so interesting for an investor"
      ]
    },
    {
      "cell_type": "code",
      "execution_count": null,
      "metadata": {},
      "outputs": [],
      "source": []
    },
    {
      "cell_type": "markdown",
      "metadata": {},
      "source": [
        "Your discussion here."
      ]
    }
  ],
  "metadata": {
    "colab": {
      "provenance": []
    },
    "kernelspec": {
      "display_name": "base",
      "language": "python",
      "name": "python3"
    },
    "language_info": {
      "codemirror_mode": {
        "name": "ipython",
        "version": 3
      },
      "file_extension": ".py",
      "mimetype": "text/x-python",
      "name": "python",
      "nbconvert_exporter": "python",
      "pygments_lexer": "ipython3",
      "version": "3.10.9"
    },
    "toc": {
      "base_numbering": 1,
      "nav_menu": {},
      "number_sections": true,
      "sideBar": true,
      "skip_h1_title": false,
      "title_cell": "Table of Contents",
      "title_sidebar": "Contents",
      "toc_cell": false,
      "toc_position": {},
      "toc_section_display": true,
      "toc_window_display": false
    },
    "toc-autonumbering": true
  },
  "nbformat": 4,
  "nbformat_minor": 0
}
